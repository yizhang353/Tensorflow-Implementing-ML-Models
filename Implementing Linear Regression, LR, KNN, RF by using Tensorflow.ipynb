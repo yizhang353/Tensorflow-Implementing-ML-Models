{
 "cells": [
  {
   "cell_type": "code",
   "execution_count": 1,
   "metadata": {
    "_uuid": "ad5e3d9aa1b4f9cc022ca21d923417d325660702"
   },
   "outputs": [],
   "source": [
    "%matplotlib inline\n",
    "import matplotlib.pyplot as plt\n",
    "import numpy as np\n",
    "import tensorflow as tf\n",
    "from sklearn.linear_model import LinearRegression\n",
    "from sklearn.metrics import mean_squared_error as mse\n",
    "from sklearn.metrics import r2_score"
   ]
  },
  {
   "cell_type": "code",
   "execution_count": 2,
   "metadata": {
    "_uuid": "e7c17eed09df55a898d4124fbb7b4b4ca6e360db"
   },
   "outputs": [],
   "source": [
    "x = tf.Variable(3, name='x')\n",
    "y = tf.Variable(4, name='y')\n",
    "f = x * x * y + y + 2"
   ]
  },
  {
   "cell_type": "code",
   "execution_count": 3,
   "metadata": {
    "_uuid": "a219891a4590138934157cc7e3cd56b5fbdd66f8"
   },
   "outputs": [
    {
     "name": "stdout",
     "output_type": "stream",
     "text": [
      "42\n"
     ]
    }
   ],
   "source": [
    "sess = tf.Session()\n",
    "sess.run(x.initializer)\n",
    "sess.run(y.initializer)\n",
    "result = sess.run(f)\n",
    "print(result)"
   ]
  },
  {
   "cell_type": "code",
   "execution_count": 4,
   "metadata": {
    "_uuid": "fdc1becb5d490de5e7c5829e33a40a6b7b549429"
   },
   "outputs": [],
   "source": [
    "sess.close()"
   ]
  },
  {
   "cell_type": "code",
   "execution_count": 5,
   "metadata": {
    "_uuid": "6242a5b0bb7138f484a96fdfa1580a4ec100d2bf"
   },
   "outputs": [],
   "source": [
    "with tf.Session() as sess:\n",
    "    x.initializer.run()\n",
    "    y.initializer.run()\n",
    "    result = f.eval()"
   ]
  },
  {
   "cell_type": "code",
   "execution_count": 6,
   "metadata": {
    "_uuid": "1e9b21480718ec2ed9c09b522bcadde3227cebb3"
   },
   "outputs": [
    {
     "name": "stdout",
     "output_type": "stream",
     "text": [
      "42\n"
     ]
    }
   ],
   "source": [
    "print(result)"
   ]
  },
  {
   "cell_type": "code",
   "execution_count": 7,
   "metadata": {
    "_uuid": "2eb01a9903d3f14db76e8d9ab9055ad9cdd78b55"
   },
   "outputs": [],
   "source": [
    "init = tf.global_variables_initializer()\n",
    "with tf.Session() as sess:\n",
    "    init.run()\n",
    "    result = f.eval()"
   ]
  },
  {
   "cell_type": "code",
   "execution_count": 8,
   "metadata": {
    "_uuid": "0b4e542e6e9ba0b1cf03a6029b5fc6deb39c8ea9"
   },
   "outputs": [
    {
     "name": "stdout",
     "output_type": "stream",
     "text": [
      "42\n"
     ]
    }
   ],
   "source": [
    "print(result)"
   ]
  },
  {
   "cell_type": "code",
   "execution_count": 9,
   "metadata": {
    "_uuid": "cb7c019e70b3447a54f0e58f7c5e99019bd5e019"
   },
   "outputs": [
    {
     "name": "stdout",
     "output_type": "stream",
     "text": [
      "3\n",
      "4\n"
     ]
    }
   ],
   "source": [
    "init = tf.global_variables_initializer()\n",
    "with tf.Session() as sess:\n",
    "    init.run()\n",
    "    print(x.eval())\n",
    "    print(y.eval())\n",
    "    result = sess.run(f, feed_dict={x:1, y:0})"
   ]
  },
  {
   "cell_type": "code",
   "execution_count": 10,
   "metadata": {
    "_uuid": "2907d830ca0ecddb72324e8c6360833915902bec"
   },
   "outputs": [
    {
     "name": "stdout",
     "output_type": "stream",
     "text": [
      "2\n"
     ]
    }
   ],
   "source": [
    "print(result)"
   ]
  },
  {
   "cell_type": "markdown",
   "metadata": {
    "_uuid": "1a76ec0610c027253b1676429afb7f8c30281933"
   },
   "source": [
    "### 用tensorflow 来实现linear regression"
   ]
  },
  {
   "cell_type": "code",
   "execution_count": 11,
   "metadata": {
    "_uuid": "0ae375c115b80f77e218be416d7666f09ff2c469"
   },
   "outputs": [],
   "source": [
    "\n",
    "def plot_decision_boundary(X, model):\n",
    "    h = .02 \n",
    "\n",
    "    x_min, x_max = X[:, 0].min() - 1, X[:, 0].max() + 1\n",
    "    y_min, y_max = X[:, 1].min() - 1, X[:, 1].max() + 1\n",
    "    xx, yy = np.meshgrid(np.arange(x_min, x_max, h),\n",
    "                       np.arange(y_min, y_max, h))\n",
    "\n",
    "\n",
    "    Z = model.predict(np.c_[xx.ravel(), yy.ravel()])\n",
    "\n",
    "    Z = Z.reshape(xx.shape)\n",
    "    plt.contour(xx, yy, Z, cmap=plt.cm.Paired)\n",
    "\n",
    "\n",
    "def f(X):\n",
    "    \"\"\"\n",
    "    input: x\n",
    "    output: y = 3x + 4\n",
    "    \"\"\"\n",
    "    return 3*X + 4\n",
    "\n",
    "\n"
   ]
  },
  {
   "cell_type": "code",
   "execution_count": 12,
   "metadata": {
    "_uuid": "4cd3bc255e32725609049e39305b65c25f471b64"
   },
   "outputs": [],
   "source": [
    "N = 40\n",
    "noise_level = 0.8\n",
    "trainX = np.linspace(-4.0, 4.0, N)\n",
    "np.random.shuffle(trainX)\n",
    "trainY = f(trainX) + np.random.randn(N) * noise_level\n",
    "\n",
    "\n",
    "learning_rate = 0.01\n",
    "training_epochs = 1000\n",
    "display_step = 50"
   ]
  },
  {
   "cell_type": "code",
   "execution_count": 13,
   "metadata": {
    "_uuid": "e90666afe12c86841f37eb12b35679866fa87e7f"
   },
   "outputs": [
    {
     "data": {
      "text/plain": [
       "<matplotlib.collections.PathCollection at 0x7fee322077d0>"
      ]
     },
     "execution_count": 13,
     "metadata": {},
     "output_type": "execute_result"
    },
    {
     "data": {
      "image/png": "[encoded data removed]",
      "text/plain": [
       "<Figure size 432x288 with 1 Axes>"
      ]
     },
     "metadata": {
      "needs_background": "light"
     },
     "output_type": "display_data"
    }
   ],
   "source": [
    "plt.scatter(trainX, trainY)"
   ]
  },
  {
   "cell_type": "code",
   "execution_count": 14,
   "metadata": {
    "_uuid": "3f0f0c1f681aa03d43f1084507751ce50deef073"
   },
   "outputs": [],
   "source": [
    "from sklearn.base import BaseEstimator"
   ]
  },
  {
   "cell_type": "code",
   "execution_count": 15,
   "metadata": {
    "_uuid": "c089183cbdb0907403b901653ea06715e568c811"
   },
   "outputs": [],
   "source": [
    "class LinearRegressionTF(BaseEstimator):\n",
    "    def __init__(self, learning_rate, training_epochs, display_step, annotate=False):\n",
    "        self.annotate = annotate\n",
    "        self.sess = tf.Session()\n",
    "        self.training_epochs = training_epochs\n",
    "        self.learning_rate = learning_rate\n",
    "        self.display_step = display_step\n",
    "        \n",
    "        \n",
    "    def fit(self, trainX,trainY):\n",
    "        N = trainX.shape[0]\n",
    "        # 图的输入\n",
    "        self.X = tf.placeholder(\"float\")\n",
    "        self.Y = tf.placeholder(\"float\")\n",
    "        \n",
    "        \n",
    "        # 参数的定义\n",
    "        self.W = tf.Variable(np.random.randn(), name=\"weight\")\n",
    "        self.b = tf.Variable(np.random.randn(), name=\"bias\")\n",
    "        \n",
    "        # 线性模型\n",
    "        self.pred = tf.add(tf.multiply(self.X, self.W), self.b)\n",
    "        \n",
    "        # mean squre error\n",
    "        cost = tf.reduce_sum(tf.pow(self.pred-self.Y, 2))/(2*N)\n",
    "        \n",
    "        # 优化器\n",
    "        optimizer = tf.train.GradientDescentOptimizer(self.learning_rate).minimize(cost)\n",
    "        \n",
    "        # 初始化所有的参数\n",
    "        init = tf.global_variables_initializer()\n",
    "        self.sess.run(init)\n",
    "\n",
    "        \n",
    "        if self.annotate:\n",
    "            plt.plot(trainX, trainY, 'ro', label='Original data')\n",
    "            plt.plot(trainX, self.sess.run(self.W) * trainX + self.sess.run(self.b), label='Fitted line')\n",
    "            plt.legend()\n",
    "            plt.title(\"This is where model starts to learn!!\")\n",
    "            plt.show()\n",
    "            \n",
    "        # 训练开始\n",
    "        for epoch in range(self.training_epochs):\n",
    "            for (x, y) in zip(trainX, trainY):\n",
    "                self.sess.run(optimizer, feed_dict={self.X: x, self.Y: y})\n",
    "\n",
    "            #展示训练结果\n",
    "            if (epoch+1) % display_step == 0:\n",
    "                c = self.sess.run(cost, feed_dict={self.X: trainX, self.Y:trainY})\n",
    "                print(\"Epoch:\", '%04d' % (epoch+1), \"cost=\", \"{:.9f}\".format(c), \\\n",
    "            \"W=\", self.sess.run(self.W), \"b=\", self.sess.run(self.b))\n",
    "                \n",
    "            #显示拟合的直线\n",
    "                if self.annotate:\n",
    "                    plt.plot(trainX, trainY, 'ro', label='Original data')\n",
    "                    plt.plot(trainX, self.sess.run(self.W) * trainX + self.sess.run(self.b), label='Fitted line')\n",
    "                    plt.legend()\n",
    "                    plt.show()\n",
    "                #plt.pause(0.5)\n",
    "\n",
    "        print(\"Optimization Finished!\")\n",
    "        training_cost = self.sess.run(cost, feed_dict={self.X: trainX, self.Y: trainY})\n",
    "        print(\"Training cost=\", training_cost, \"W=\", self.sess.run(self.W), \"b=\", self.sess.run(self.b), '\\n')\n",
    "\n",
    "        \n",
    "    def predict(self, testX):\n",
    "        prediction = self.sess.run(self.pred,feed_dict={self.X: testX})\n",
    "        return prediction\n",
    "    \n",
    "    def score(self, testX, testY):\n",
    "        result = self.predict(testX)\n",
    "        return r2_score(testY, result)\n",
    "        \n",
    "    "
   ]
  },
  {
   "cell_type": "code",
   "execution_count": 16,
   "metadata": {
    "_uuid": "0d6b61fe1d7c162a2ad758c6775d93ef331acdd1"
   },
   "outputs": [
    {
     "name": "stderr",
     "output_type": "stream",
     "text": [
      "WARNING: Logging before flag parsing goes to stderr.\n",
      "W0927 12:52:36.500895 4712420800 deprecation.py:323] From /anaconda3/lib/python3.7/site-packages/tensorflow/python/ops/math_grad.py:1205: add_dispatch_support.<locals>.wrapper (from tensorflow.python.ops.array_ops) is deprecated and will be removed in a future version.\n",
      "Instructions for updating:\n",
      "Use tf.where in 2.0, which has the same broadcast rule as np.where\n"
     ]
    },
    {
     "name": "stdout",
     "output_type": "stream",
     "text": [
      "Epoch: 0050 cost= 3.180847645 W= 2.7429051 b= 1.6668977\n",
      "Epoch: 0100 cost= 1.303128004 W= 2.8841796 b= 2.609979\n",
      "Epoch: 0150 cost= 0.636204183 W= 2.8928943 b= 3.1817234\n",
      "Epoch: 0200 cost= 0.391198009 W= 2.8935378 b= 3.5283554\n",
      "Epoch: 0250 cost= 0.301161677 W= 2.893645 b= 3.738517\n",
      "Epoch: 0300 cost= 0.268081129 W= 2.8936927 b= 3.8659334\n",
      "Epoch: 0350 cost= 0.255930573 W= 2.8937237 b= 3.9431813\n",
      "Epoch: 0400 cost= 0.251469493 W= 2.8937385 b= 3.990016\n",
      "Epoch: 0450 cost= 0.249832973 W= 2.8937492 b= 4.0184093\n",
      "Epoch: 0500 cost= 0.249233201 W= 2.8937578 b= 4.035629\n",
      "Epoch: 0550 cost= 0.249014005 W= 2.893759 b= 4.046065\n",
      "Epoch: 0600 cost= 0.248934150 W= 2.8937635 b= 4.0523925\n",
      "Epoch: 0650 cost= 0.248905227 W= 2.89376 b= 4.056229\n",
      "Epoch: 0700 cost= 0.248894885 W= 2.8937674 b= 4.0585475\n",
      "Epoch: 0750 cost= 0.248891160 W= 2.8937654 b= 4.0599656\n",
      "Epoch: 0800 cost= 0.248889953 W= 2.8937683 b= 4.0608015\n",
      "Epoch: 0850 cost= 0.248889491 W= 2.8937652 b= 4.0613465\n",
      "Epoch: 0900 cost= 0.248889402 W= 2.8937728 b= 4.0616717\n",
      "Epoch: 0950 cost= 0.248889431 W= 2.8937664 b= 4.0618367\n",
      "Epoch: 1000 cost= 0.248889402 W= 2.8937593 b= 4.061956\n",
      "Optimization Finished!\n",
      "Training cost= 0.2488894 W= 2.8937593 b= 4.061956 \n",
      "\n"
     ]
    }
   ],
   "source": [
    "lr = LinearRegressionTF(learning_rate, 1000, display_step, annotate=False)\n",
    "lr.fit(trainX, trainY)"
   ]
  },
  {
   "cell_type": "code",
   "execution_count": 17,
   "metadata": {
    "_uuid": "fe0dbf2cfc47620e3b0d7e742369275e93d70fd1"
   },
   "outputs": [
    {
     "name": "stdout",
     "output_type": "stream",
     "text": [
      "Epoch: 0050 cost= 4.873595238 W= 2.7692037 b= 1.0892793\n",
      "Epoch: 0100 cost= 1.940061927 W= 2.875989 b= 2.2811105\n",
      "Epoch: 0150 cost= 0.874667764 W= 2.8841825 b= 3.0038316\n",
      "Epoch: 0200 cost= 0.483169407 W= 2.8862658 b= 3.4419742\n",
      "Epoch: 0250 cost= 0.339293420 W= 2.887381 b= 3.7075853\n",
      "Epoch: 0300 cost= 0.286417842 W= 2.8880477 b= 3.8686073\n",
      "Epoch: 0350 cost= 0.266985834 W= 2.888452 b= 3.9662247\n",
      "Epoch: 0400 cost= 0.259844720 W= 2.888699 b= 4.025405\n",
      "Epoch: 0450 cost= 0.257220745 W= 2.8888474 b= 4.0612783\n",
      "Epoch: 0500 cost= 0.256256580 W= 2.888936 b= 4.0830264\n",
      "Epoch: 0550 cost= 0.255902439 W= 2.8889914 b= 4.096208\n",
      "Epoch: 0600 cost= 0.255772293 W= 2.889024 b= 4.104197\n",
      "Epoch: 0650 cost= 0.255724400 W= 2.889046 b= 4.109045\n",
      "Epoch: 0700 cost= 0.255706817 W= 2.8890557 b= 4.1119814\n",
      "Epoch: 0750 cost= 0.255700469 W= 2.8890638 b= 4.113762\n",
      "Epoch: 0800 cost= 0.255698025 W= 2.889075 b= 4.1148405\n",
      "Epoch: 0850 cost= 0.255697191 W= 2.8890755 b= 4.115502\n",
      "Epoch: 0900 cost= 0.255696833 W= 2.8890753 b= 4.1158967\n",
      "Epoch: 0950 cost= 0.255696774 W= 2.889078 b= 4.1161284\n",
      "Epoch: 1000 cost= 0.255696774 W= 2.889067 b= 4.116282\n",
      "Optimization Finished!\n",
      "Training cost= 0.25569677 W= 2.889067 b= 4.116282 \n",
      "\n",
      "Epoch: 0050 cost= 2.374405146 W= 2.5034287 b= 2.0932508\n",
      "Epoch: 0100 cost= 0.959418774 W= 2.7860594 b= 2.859822\n",
      "Epoch: 0150 cost= 0.503142595 W= 2.826218 b= 3.3309777\n",
      "Epoch: 0200 cost= 0.334986210 W= 2.8390446 b= 3.617882\n",
      "Epoch: 0250 cost= 0.272841811 W= 2.8458207 b= 3.7923493\n",
      "Epoch: 0300 cost= 0.249876201 W= 2.8498516 b= 3.8984253\n",
      "Epoch: 0350 cost= 0.241390720 W= 2.8522933 b= 3.9629164\n",
      "Epoch: 0400 cost= 0.238256007 W= 2.8537774 b= 4.0021276\n",
      "Epoch: 0450 cost= 0.237098634 W= 2.8546805 b= 4.025966\n",
      "Epoch: 0500 cost= 0.236671582 W= 2.8552315 b= 4.040459\n",
      "Epoch: 0550 cost= 0.236514151 W= 2.8555603 b= 4.049268\n",
      "Epoch: 0600 cost= 0.236456171 W= 2.855766 b= 4.054631\n",
      "Epoch: 0650 cost= 0.236434981 W= 2.8558867 b= 4.05789\n",
      "Epoch: 0700 cost= 0.236427233 W= 2.8559659 b= 4.05986\n",
      "Epoch: 0750 cost= 0.236424387 W= 2.85601 b= 4.0610766\n",
      "Epoch: 0800 cost= 0.236423492 W= 2.8560352 b= 4.061766\n",
      "Epoch: 0850 cost= 0.236423075 W= 2.856051 b= 4.062264\n",
      "Epoch: 0900 cost= 0.236422896 W= 2.8560565 b= 4.062551\n",
      "Epoch: 0950 cost= 0.236422986 W= 2.8560696 b= 4.0626807\n",
      "Epoch: 1000 cost= 0.236422926 W= 2.8560643 b= 4.0627604\n",
      "Optimization Finished!\n",
      "Training cost= 0.23642293 W= 2.8560643 b= 4.0627604 \n",
      "\n",
      "Epoch: 0050 cost= 4.046544075 W= 2.7870138 b= 1.2719898\n",
      "Epoch: 0100 cost= 1.611111760 W= 2.936628 b= 2.3445458\n",
      "Epoch: 0150 cost= 0.753031433 W= 2.9272485 b= 2.9932168\n",
      "Epoch: 0200 cost= 0.436651379 W= 2.9171605 b= 3.3870592\n",
      "Epoch: 0250 cost= 0.319973916 W= 2.9108388 b= 3.6262527\n",
      "Epoch: 0300 cost= 0.276950628 W= 2.9069922 b= 3.771524\n",
      "Epoch: 0350 cost= 0.261090398 W= 2.9046566 b= 3.8597484\n",
      "Epoch: 0400 cost= 0.255244941 W= 2.9032354 b= 3.9133341\n",
      "Epoch: 0450 cost= 0.253092051 W= 2.9023747 b= 3.9458783\n",
      "Epoch: 0500 cost= 0.252299845 W= 2.9018514 b= 3.9656432\n",
      "Epoch: 0550 cost= 0.252008885 W= 2.9015322 b= 3.9776468\n",
      "Epoch: 0600 cost= 0.251902163 W= 2.901338 b= 3.9849374\n",
      "Epoch: 0650 cost= 0.251863301 W= 2.9012234 b= 3.989365\n",
      "Epoch: 0700 cost= 0.251849174 W= 2.9011495 b= 3.9920554\n",
      "Epoch: 0750 cost= 0.251844168 W= 2.9011066 b= 3.9936864\n",
      "Epoch: 0800 cost= 0.251842439 W= 2.9010804 b= 3.9946773\n",
      "Epoch: 0850 cost= 0.251841784 W= 2.9010653 b= 3.995272\n",
      "Epoch: 0900 cost= 0.251841635 W= 2.9010618 b= 3.995658\n",
      "Epoch: 0950 cost= 0.251841515 W= 2.9010518 b= 3.9958565\n",
      "Epoch: 1000 cost= 0.251841545 W= 2.9010532 b= 3.9959748\n",
      "Optimization Finished!\n",
      "Training cost= 0.25184155 W= 2.9010532 b= 3.9959748 \n",
      "\n",
      "Epoch: 0050 cost= 1.421884894 W= 2.8318844 b= 2.5339637\n",
      "Epoch: 0100 cost= 0.669214487 W= 2.9362307 b= 3.1257153\n",
      "Epoch: 0150 cost= 0.408465624 W= 2.9344456 b= 3.4833193\n",
      "Epoch: 0200 cost= 0.312455595 W= 2.9295888 b= 3.7003167\n",
      "Epoch: 0250 cost= 0.277086228 W= 2.9264176 b= 3.832048\n",
      "Epoch: 0300 cost= 0.264059842 W= 2.9244814 b= 3.912022\n",
      "Epoch: 0350 cost= 0.259264648 W= 2.923306 b= 3.9605727\n",
      "Epoch: 0400 cost= 0.257500798 W= 2.92259 b= 3.990049\n",
      "Epoch: 0450 cost= 0.256853014 W= 2.9221568 b= 4.00794\n",
      "Epoch: 0500 cost= 0.256615490 W= 2.921893 b= 4.0188017\n",
      "Epoch: 0550 cost= 0.256528735 W= 2.9217348 b= 4.0253954\n",
      "Epoch: 0600 cost= 0.256497204 W= 2.9216394 b= 4.0294027\n",
      "Epoch: 0650 cost= 0.256485939 W= 2.9215786 b= 4.031823\n",
      "Epoch: 0700 cost= 0.256481886 W= 2.9215412 b= 4.0332937\n",
      "Epoch: 0750 cost= 0.256480515 W= 2.92152 b= 4.0341945\n",
      "Epoch: 0800 cost= 0.256480098 W= 2.9215057 b= 4.034719\n",
      "Epoch: 0850 cost= 0.256479979 W= 2.9214919 b= 4.035083\n",
      "Epoch: 0900 cost= 0.256479949 W= 2.9215047 b= 4.0353117\n",
      "Epoch: 0950 cost= 0.256479919 W= 2.9214945 b= 4.035427\n",
      "Epoch: 1000 cost= 0.256479949 W= 2.9214942 b= 4.0355043\n",
      "Optimization Finished!\n",
      "Training cost= 0.25647995 W= 2.9214942 b= 4.0355043 \n",
      "\n",
      "Epoch: 0050 cost= 2.372765303 W= 2.6243925 b= 2.0957513\n",
      "Epoch: 0100 cost= 0.968241036 W= 2.856135 b= 2.8774104\n",
      "Epoch: 0150 cost= 0.503702581 W= 2.8815477 b= 3.3539584\n",
      "Epoch: 0200 cost= 0.333034277 W= 2.8889625 b= 3.6432793\n",
      "Epoch: 0250 cost= 0.270236731 W= 2.8929033 b= 3.818851\n",
      "Epoch: 0300 cost= 0.247139096 W= 2.8952603 b= 3.9253855\n",
      "Epoch: 0350 cost= 0.238648430 W= 2.8966844 b= 3.9900355\n",
      "Epoch: 0400 cost= 0.235531285 W= 2.89755 b= 4.029262\n",
      "Epoch: 0450 cost= 0.234388828 W= 2.8980742 b= 4.0530634\n",
      "Epoch: 0500 cost= 0.233971357 W= 2.898393 b= 4.067511\n",
      "Epoch: 0550 cost= 0.233819693 W= 2.898587 b= 4.076273\n",
      "Epoch: 0600 cost= 0.233765081 W= 2.8987021 b= 4.0815897\n",
      "Epoch: 0650 cost= 0.233745635 W= 2.8987753 b= 4.084817\n",
      "Epoch: 0700 cost= 0.233738929 W= 2.8988206 b= 4.0867763\n",
      "Epoch: 0750 cost= 0.233736724 W= 2.8988454 b= 4.08795\n",
      "Epoch: 0800 cost= 0.233736068 W= 2.8988597 b= 4.0886846\n",
      "Epoch: 0850 cost= 0.233735949 W= 2.8988678 b= 4.089134\n",
      "Epoch: 0900 cost= 0.233735979 W= 2.8988774 b= 4.08935\n",
      "Epoch: 0950 cost= 0.233736068 W= 2.8988798 b= 4.0894933\n",
      "Epoch: 1000 cost= 0.233736053 W= 2.89887 b= 4.0896277\n",
      "Optimization Finished!\n",
      "Training cost= 0.23373605 W= 2.89887 b= 4.0896277 \n",
      "\n"
     ]
    },
    {
     "data": {
      "text/plain": [
       "0.9869948002671818"
      ]
     },
     "execution_count": 17,
     "metadata": {},
     "output_type": "execute_result"
    }
   ],
   "source": [
    "from sklearn.model_selection import cross_val_score\n",
    "cross_val_score(lr, trainX, trainY, cv=5).mean()"
   ]
  },
  {
   "cell_type": "code",
   "execution_count": null,
   "metadata": {
    "_uuid": "188cda93828598ca757633d2baa9b77c5b7128c2",
    "collapsed": true,
    "jupyter": {
     "outputs_hidden": true
    }
   },
   "outputs": [],
   "source": []
  },
  {
   "cell_type": "markdown",
   "metadata": {
    "_uuid": "3041563fa92a1a5cadb4932657fc94fafc628c83"
   },
   "source": [
    "### 用tensorflow 来实现logistic regression"
   ]
  },
  {
   "cell_type": "code",
   "execution_count": 18,
   "metadata": {
    "_uuid": "e90a3afd0ccd8598befebea12c57598c17ad8e40"
   },
   "outputs": [],
   "source": [
    "tf.reset_default_graph()"
   ]
  },
  {
   "cell_type": "code",
   "execution_count": 19,
   "metadata": {
    "_uuid": "f9f8c89ba6083b2bbba9d3d041f9049d60746c77"
   },
   "outputs": [
    {
     "data": {
      "image/png": "[encoded data removed]",
      "text/plain": [
       "<Figure size 432x288 with 1 Axes>"
      ]
     },
     "metadata": {
      "needs_background": "light"
     },
     "output_type": "display_data"
    }
   ],
   "source": [
    "N = 100\n",
    "D = 2\n",
    "trainX = np.random.randn(N, D)\n",
    "\n",
    "delta = 1.75\n",
    "trainX[:N//2] += np.array([delta, delta])\n",
    "trainX[N//2:] += np.array([-delta, -delta])\n",
    "\n",
    "trainY = np.array([0] * (N//2) + [1] * (N//2))\n",
    "plt.scatter(trainX[:,0], trainX[:,1], s=100, c=trainY, alpha=0.5)\n",
    "plt.show()"
   ]
  },
  {
   "cell_type": "code",
   "execution_count": 20,
   "metadata": {
    "_uuid": "aeec214e9a265556b6b6d5551dedb1879343f674"
   },
   "outputs": [],
   "source": [
    "original_label = np.array([0] * (N//2) + [1] * (N//2))"
   ]
  },
  {
   "cell_type": "code",
   "execution_count": 21,
   "metadata": {
    "_uuid": "16335c02e85b1073873e72a56e52cbebaafa836d"
   },
   "outputs": [],
   "source": [
    "from sklearn.metrics import accuracy_score\n",
    "class LogisticRegressionTF(BaseEstimator):\n",
    "    def __init__(self, learning_rate, training_epochs, display_step, annotate=False):\n",
    "        self.annotate = annotate\n",
    "        self.sess = tf.Session()\n",
    "        self.training_epochs = training_epochs\n",
    "        self.learning_rate = learning_rate\n",
    "        self.display_step = display_step\n",
    "        \n",
    "        \n",
    "    def fit(self, trainX,trainY):\n",
    "        N, D = trainX.shape\n",
    "        _, c = trainY.shape\n",
    "        # 图的输入\n",
    "        self.X = tf.placeholder(tf.float64, shape=[None, D])\n",
    "        self.Y = tf.placeholder(tf.float64, shape=[None, c])\n",
    "        \n",
    "        \n",
    "        # 参数的定义\n",
    "        self.W = tf.Variable(np.random.randn(D,c), name=\"weight\")\n",
    "        self.b = tf.Variable(np.random.randn(c), name=\"bias\")\n",
    "        \n",
    "        # logistic prediction\n",
    "        #self.pred = tf.sigmoid(tf.add(tf.matmul(self.X, self.W), self.b))\n",
    "        output_logits = tf.add(tf.matmul(self.X, self.W), self.b)\n",
    "        self.pred = tf.sigmoid(output_logits)   # turn logits to probability\n",
    "        \n",
    "        # 交叉熵loss\n",
    "        #cost = tf.reduce_mean(-tf.reduce_sum(y*tf.log(pred), reduction_indices=1))\n",
    "        cost= tf.reduce_mean(tf.nn.sigmoid_cross_entropy_with_logits(logits=output_logits, labels=self.Y))\n",
    "        \n",
    "        # 优化器\n",
    "        optimizer = tf.train.GradientDescentOptimizer(self.learning_rate).minimize(cost)\n",
    "        \n",
    "        # 初始化所有的参数\n",
    "        init = tf.global_variables_initializer()\n",
    "        self.sess.run(init)\n",
    "        \n",
    "        \n",
    "        # 可视化初始化的模型边界\n",
    "        if self.annotate:\n",
    "            assert len(trainX.shape) == 2, \"Only 2d points are allowed!!\"\n",
    "\n",
    "            plt.scatter(trainX[:,0], trainX[:,1], s=100, c=original_label, alpha=0.5) \n",
    "\n",
    "            h = .02 \n",
    "            x_min, x_max = trainX[:, 0].min() - 1, trainX[:, 0].max() + 1\n",
    "            y_min, y_max = trainX[:, 1].min() - 1, trainX[:, 1].max() + 1\n",
    "            xx, yy = np.meshgrid(np.arange(x_min, x_max, h),np.arange(y_min, y_max, h))\n",
    "\n",
    "            Z = self.predict(np.c_[xx.ravel(), yy.ravel()])\n",
    "            Z = Z.reshape(xx.shape)\n",
    "            plt.contour(xx, yy, Z, cmap=plt.cm.Paired)\n",
    "            plt.title(\"This is where model starts to learn!!\")\n",
    "            plt.show()\n",
    "\n",
    "        \n",
    "\n",
    "        # 训练开始\n",
    "        for epoch in range(self.training_epochs):\n",
    "            for (x, y) in zip(trainX, trainY):\n",
    "                self.sess.run(optimizer, feed_dict={self.X: np.asmatrix(x), self.Y: np.asmatrix(y)})\n",
    "\n",
    "            #展示训练结果\n",
    "            if (epoch+1) % display_step == 0:\n",
    "                c = self.sess.run(cost, feed_dict={self.X: trainX, self.Y:trainY})\n",
    "                print(\"Epoch:\", '%04d' % (epoch+1), \"cost=\", \"{:.9f}\".format(c), \\\n",
    "            \"W=\", self.sess.run(self.W), \"b=\", self.sess.run(self.b))\n",
    "                \n",
    "            #显示拟合的直线\n",
    "                if self.annotate:\n",
    "                    assert len(trainX.shape) == 2, \"Only 2d points are allowed!!\"\n",
    "\n",
    "                    plt.scatter(trainX[:,0], trainX[:,1], s=100, c=original_label, alpha=0.5) \n",
    "             \n",
    "                    h = .02 \n",
    "                    x_min, x_max = trainX[:, 0].min() - 1, trainX[:, 0].max() + 1\n",
    "                    y_min, y_max = trainX[:, 1].min() - 1, trainX[:, 1].max() + 1\n",
    "                    xx, yy = np.meshgrid(np.arange(x_min, x_max, h),np.arange(y_min, y_max, h))\n",
    "\n",
    "                    Z = self.predict(np.c_[xx.ravel(), yy.ravel()])\n",
    "                    Z = Z.reshape(xx.shape)\n",
    "                    plt.contour(xx, yy, Z, cmap=plt.cm.Paired)\n",
    "                    plt.show()\n",
    "\n",
    "\n",
    "\n",
    "        print(\"Optimization Finished!\")\n",
    "        training_cost = self.sess.run(cost, feed_dict={self.X: trainX, self.Y: trainY})\n",
    "        print(\"Training cost=\", training_cost, \"W=\", self.sess.run(self.W), \"b=\", self.sess.run(self.b), '\\n')\n",
    "\n",
    "        \n",
    "    def predict(self, testX):\n",
    "        prediction = self.sess.run(self.pred,feed_dict={self.X: testX})\n",
    "        return np.argmax(prediction, axis=1)\n",
    "    \n",
    "    def score(self, testX, testY):\n",
    "        # suppose the testY has been one hot encoded\n",
    "        #eg:#0: [1,0]  -> 0, 0\n",
    "            #1: [1,0]  -> 1, 0\n",
    "            #2: [0,1]  -> 2, 1\n",
    "        _ , true_result = np.where(testY == 1)\n",
    "        result = self.predict(testX)\n",
    "        return accuracy_score(true_result, result)"
   ]
  },
  {
   "cell_type": "code",
   "execution_count": 22,
   "metadata": {
    "_uuid": "6a1900bb8783fffab415239b6324ba4edf84430e"
   },
   "outputs": [],
   "source": [
    "from sklearn.preprocessing import OneHotEncoder"
   ]
  },
  {
   "cell_type": "code",
   "execution_count": 23,
   "metadata": {
    "_uuid": "c9a64d19d82c047512a748e30da0a775d401a25e"
   },
   "outputs": [
    {
     "name": "stderr",
     "output_type": "stream",
     "text": [
      "/anaconda3/lib/python3.7/site-packages/sklearn/preprocessing/_encoders.py:415: FutureWarning: The handling of integer data will change in version 0.22. Currently, the categories are determined based on the range [0, max(values)], while in the future they will be determined based on the unique values.\n",
      "If you want the future behaviour and silence this warning, you can specify \"categories='auto'\".\n",
      "In case you used a LabelEncoder before this OneHotEncoder to convert the categories to integers, then you can now use the OneHotEncoder directly.\n",
      "  warnings.warn(msg, FutureWarning)\n"
     ]
    }
   ],
   "source": [
    "le = OneHotEncoder()\n",
    "le.fit(trainY.reshape(N,-1))\n",
    "trainY = le.transform(trainY.reshape(N,-1)).toarray()"
   ]
  },
  {
   "cell_type": "code",
   "execution_count": 24,
   "metadata": {
    "_uuid": "b5ebe28caf594994b71570e281a3d32ac2463a3e"
   },
   "outputs": [
    {
     "name": "stdout",
     "output_type": "stream",
     "text": [
      "Epoch: 0050 cost= 0.046210008 W= [[ 1.73891725 -1.21532546]\n",
      " [ 1.8379118  -1.74266533]] b= [0.13610881 0.15144553]\n",
      "Epoch: 0100 cost= 0.039837075 W= [[ 1.70244025 -1.39747572]\n",
      " [ 2.20061531 -2.113619  ]] b= [0.06220604 0.17815928]\n",
      "Epoch: 0150 cost= 0.037287243 W= [[ 1.71207771 -1.50234446]\n",
      " [ 2.43321645 -2.35207746]] b= [0.00211903 0.1920821 ]\n",
      "Epoch: 0200 cost= 0.035924161 W= [[ 1.73900699 -1.58055178]\n",
      " [ 2.60036317 -2.5264941 ]] b= [-0.04591275  0.202141  ]\n",
      "Epoch: 0250 cost= 0.035084201 W= [[ 1.7715375  -1.64480892]\n",
      " [ 2.72918867 -2.66244276]] b= [-0.08372191  0.2101012 ]\n",
      "Epoch: 0300 cost= 0.034520849 W= [[ 1.80495983 -1.69989758]\n",
      " [ 2.8331428  -2.77275479]] b= [-0.11331649  0.2164489 ]\n",
      "Epoch: 0350 cost= 0.034121172 W= [[ 1.83738425 -1.74818396]\n",
      " [ 2.91970562 -2.86481547]] b= [-0.13645928  0.22142202]\n",
      "Epoch: 0400 cost= 0.033826016 W= [[ 1.86809871 -1.79108897]\n",
      " [ 2.99341683 -2.94325148]] b= [-0.15456764  0.22520985]\n",
      "Epoch: 0450 cost= 0.033601386 W= [[ 1.89689434 -1.82957915]\n",
      " [ 3.05722858 -3.01114277]] b= [-0.16874283  0.2279856 ]\n",
      "Epoch: 0500 cost= 0.033426374 W= [[ 1.92377696 -1.86436349]\n",
      " [ 3.11317006 -3.07063845]] b= [-0.17983062  0.22990714]\n",
      "Epoch: 0550 cost= 0.033287433 W= [[ 1.94884018 -1.89598654]\n",
      " [ 3.16269977 -3.12329615]] b= [-0.18848002  0.23111457]\n",
      "Epoch: 0600 cost= 0.033175417 W= [[ 1.97220874 -1.92487916]\n",
      " [ 3.20690448 -3.17028075]] b= [-0.19519121  0.23172941]\n",
      "Epoch: 0650 cost= 0.033083943 W= [[ 1.99401331 -1.95138943]\n",
      " [ 3.24661799 -3.21248655]] b= [-0.20035237  0.23185553]\n",
      "Epoch: 0700 cost= 0.033008430 W= [[ 2.01437973 -1.97580313]\n",
      " [ 3.28249541 -3.25061547]] b= [-0.2042672   0.23158077]\n",
      "Epoch: 0750 cost= 0.032945510 W= [[ 2.03342476 -1.99835797]\n",
      " [ 3.31506166 -3.28522885]] b= [-0.20717527  0.23097909]\n",
      "Epoch: 0800 cost= 0.032892662 W= [[ 2.05125494 -2.01925393]\n",
      " [ 3.34474429 -3.31678293]] b= [-0.20926711  0.23011252]\n",
      "Epoch: 0850 cost= 0.032847961 W= [[ 2.06796674 -2.03866092]\n",
      " [ 3.37189639 -3.34565368]] b= [-0.21069542  0.22903304]\n",
      "Epoch: 0900 cost= 0.032809917 W= [[ 2.08364726 -2.05672459]\n",
      " [ 3.39681303 -3.37215467]] b= [-0.21158346  0.22778419]\n",
      "Epoch: 0950 cost= 0.032777363 W= [[ 2.09837513 -2.07357081]\n",
      " [ 3.41974332 -3.39655021]] b= [-0.21203133  0.22640244]\n",
      "Epoch: 1000 cost= 0.032749370 W= [[ 2.11222144 -2.08930914]\n",
      " [ 3.44089947 -3.41906516]] b= [-0.21212082  0.22491836]\n",
      "Optimization Finished!\n",
      "Training cost= 0.032749370117620365 W= [[ 2.11222144 -2.08930914]\n",
      " [ 3.44089947 -3.41906516]] b= [-0.21212082  0.22491836] \n",
      "\n"
     ]
    }
   ],
   "source": [
    "logisticTF = LogisticRegressionTF(learning_rate, 1000, display_step, annotate=False)\n",
    "logisticTF.fit(trainX, trainY)"
   ]
  },
  {
   "cell_type": "code",
   "execution_count": 25,
   "metadata": {
    "_uuid": "bca377470fc4b057798c8919f73265622265b40c"
   },
   "outputs": [
    {
     "name": "stdout",
     "output_type": "stream",
     "text": [
      "Epoch: 0050 cost= 0.056379225 W= [[ 1.41655073 -1.14016985]\n",
      " [ 1.50430265 -1.50296172]] b= [-0.45965271  0.37010061]\n",
      "Epoch: 0100 cost= 0.046047505 W= [[ 1.30515139 -1.18462461]\n",
      " [ 1.94465419 -1.93121223]] b= [-0.46363515  0.44973109]\n",
      "Epoch: 0150 cost= 0.042553276 W= [[ 1.27735762 -1.2139189 ]\n",
      " [ 2.2026539  -2.18342605]] b= [-0.50099048  0.51089774]\n",
      "Epoch: 0200 cost= 0.040894693 W= [[ 1.28102526 -1.24129514]\n",
      " [ 2.37599526 -2.35668753]] b= [-0.54574441  0.56252928]\n",
      "Epoch: 0250 cost= 0.039953147 W= [[ 1.29505146 -1.26653006]\n",
      " [ 2.50298157 -2.48547836]] b= [-0.58860004  0.60655679]\n",
      "Epoch: 0300 cost= 0.039361814 W= [[ 1.31165494 -1.28918677]\n",
      " [ 2.60140527 -2.58606996]] b= [-0.62699287  0.64420293]\n",
      "Epoch: 0350 cost= 0.038966338 W= [[ 1.3280029  -1.30925479]\n",
      " [ 2.68064023 -2.66732816]] b= [-0.66061822  0.67650627]\n",
      "Epoch: 0400 cost= 0.038690308 W= [[ 1.34313326 -1.32694428]\n",
      " [ 2.74613235 -2.73456683]] b= [-0.68987325  0.70434882]\n",
      "Epoch: 0450 cost= 0.038491580 W= [[ 1.35680365 -1.34253538]\n",
      " [ 2.80130142 -2.79120391]] b= [-0.715321    0.72846181]\n",
      "Epoch: 0500 cost= 0.038345091 W= [[ 1.36904371 -1.35630772]\n",
      " [ 2.84843352 -2.83956226]] b= [-0.7375106   0.74944322]\n",
      "Epoch: 0550 cost= 0.038235089 W= [[ 1.3799766  -1.36851338]\n",
      " [ 2.88913563 -2.88129169]] b= [-0.75692441  0.76778   ]\n",
      "Epoch: 0600 cost= 0.038151242 W= [[ 1.38974771 -1.37936992]\n",
      " [ 2.92458395 -2.9176066 ]] b= [-0.77397013  0.78386929]\n",
      "Epoch: 0650 cost= 0.038086541 W= [[ 1.39849732 -1.38906153]\n",
      " [ 2.9556677  -2.94942754]] b= [-0.78898769  0.79803656]\n",
      "Epoch: 0700 cost= 0.038036100 W= [[ 1.4063514  -1.39774303]\n",
      " [ 2.98307705 -2.97746942]] b= [-0.80225983  0.81055036]\n",
      "Epoch: 0750 cost= 0.037996434 W= [[ 1.41341971 -1.40554452]\n",
      " [ 3.00735925 -3.00229884]] b= [-0.81402229  0.82163385]\n",
      "Epoch: 0800 cost= 0.037965010 W= [[ 1.41979678 -1.41257561]\n",
      " [ 3.02895595 -3.02437256]] b= [-0.82447264  0.83147388]\n",
      "Epoch: 0850 cost= 0.037939957 W= [[ 1.42556372 -1.41892907]\n",
      " [ 3.04822888 -3.04406417]] b= [-0.83377747  0.84022804]\n",
      "Epoch: 0900 cost= 0.037919871 W= [[ 1.43079018 -1.42468386]\n",
      " [ 3.06547802 -3.06168308]] b= [-0.84207813  0.8480301 ]\n",
      "Epoch: 0950 cost= 0.037903691 W= [[ 1.43553617 -1.42990755]\n",
      " [ 3.08095486 -3.07748824]] b= [-0.84949531  0.85499441]\n",
      "Epoch: 1000 cost= 0.037890600 W= [[ 1.43985361 -1.43465831]\n",
      " [ 3.09487214 -3.09169848]] b= [-0.85613261  0.86121923]\n",
      "Optimization Finished!\n",
      "Training cost= 0.037890600208640136 W= [[ 1.43985361 -1.43465831]\n",
      " [ 3.09487214 -3.09169848]] b= [-0.85613261  0.86121923] \n",
      "\n",
      "Epoch: 0050 cost= 0.057478427 W= [[ 1.64874369 -1.1593931 ]\n",
      " [ 1.41776361 -1.64634779]] b= [-1.15095248  0.41493277]\n",
      "Epoch: 0100 cost= 0.047539099 W= [[ 1.69156782 -1.41640969]\n",
      " [ 1.81633985 -1.94621784]] b= [-0.889838    0.41990166]\n",
      "Epoch: 0150 cost= 0.043772918 W= [[ 1.70006847 -1.55200105]\n",
      " [ 2.07143702 -2.14356316]] b= [-0.72826978  0.41564126]\n",
      "Epoch: 0200 cost= 0.041856174 W= [[ 1.71506804 -1.64148366]\n",
      " [ 2.25574186 -2.29281738]] b= [-0.62198788  0.4086724 ]\n",
      "Epoch: 0250 cost= 0.040746057 W= [[ 1.73962884 -1.70801259]\n",
      " [ 2.39548656 -2.41229709]] b= [-0.55079428  0.40132669]\n",
      "Epoch: 0300 cost= 0.040039607 W= [[ 1.7701292  -1.76124445]\n",
      " [ 2.50532979 -2.51102282]] b= [-0.50209061  0.39442026]\n",
      "Epoch: 0350 cost= 0.039556577 W= [[ 1.80302269 -1.80587289]\n",
      " [ 2.59437552 -2.5943418 ]] b= [-0.46785143  0.38817488]\n",
      "Epoch: 0400 cost= 0.039208518 W= [[ 1.83598002 -1.84443036]\n",
      " [ 2.66846391 -2.66576804]] b= [-0.44302032  0.38258427]\n",
      "Epoch: 0450 cost= 0.038948056 W= [[ 1.86769978 -1.87840543]\n",
      " [ 2.73143364 -2.72775949]] b= [-0.4244174   0.37756615]\n",
      "Epoch: 0500 cost= 0.038747679 W= [[ 1.89755039 -1.90874248]\n",
      " [ 2.78587509 -2.78210768]] b= [-0.41002794  0.3730243 ]\n",
      "Epoch: 0550 cost= 0.038590274 W= [[ 1.9252941  -1.93608305]\n",
      " [ 2.83358622 -2.83015778]] b= [-0.39855848  0.36887169]\n",
      "Epoch: 0600 cost= 0.038464592 W= [[ 1.95090973 -1.96088963]\n",
      " [ 2.87585157 -2.87294345]] b= [-0.38916475  0.36503705]\n",
      "Epoch: 0650 cost= 0.038362913 W= [[ 1.97448704 -1.98351236]\n",
      " [ 2.91361543 -2.91127429]] b= [-0.3812853   0.36146484]\n",
      "Epoch: 0700 cost= 0.038279756 W= [[ 1.99616638 -2.00422689]\n",
      " [ 2.94759098 -2.94579493]] b= [-0.37453927  0.35811284]\n",
      "Epoch: 0750 cost= 0.038211122 W= [[ 2.01610545 -2.02325677]\n",
      " [ 2.97833058 -2.97702613]] b= [-0.36866296  0.35494941]\n",
      "Epoch: 0800 cost= 0.038154030 W= [[ 2.03446177 -2.04078748]\n",
      " [ 3.00627176 -3.005394  ]] b= [-0.36346991  0.3519509 ]\n",
      "Epoch: 0850 cost= 0.038106218 W= [[ 2.05138409 -2.05697557]\n",
      " [ 3.03176809 -3.03125131]] b= [-0.35882551  0.34909955]\n",
      "Epoch: 0900 cost= 0.038065939 W= [[ 2.06700868 -2.07195495]\n",
      " [ 3.05511029 -3.05489316]] b= [-0.35463062  0.34638194]\n",
      "Epoch: 0950 cost= 0.038031828 W= [[ 2.08145839 -2.08584136]\n",
      " [ 3.07654099 -3.07656879]] b= [-0.35081076  0.34378772]\n",
      "Epoch: 1000 cost= 0.038002807 W= [[ 2.09484296 -2.09873568]\n",
      " [ 3.09626525 -3.09649045]] b= [-0.34730892  0.34130875]\n",
      "Optimization Finished!\n",
      "Training cost= 0.038002807093020494 W= [[ 2.09484296 -2.09873568]\n",
      " [ 3.09626525 -3.09649045]] b= [-0.34730892  0.34130875] \n",
      "\n",
      "Epoch: 0050 cost= 0.044461235 W= [[ 1.56001563 -1.29475902]\n",
      " [ 1.44712674 -1.59443852]] b= [0.27399321 0.18933111]\n",
      "Epoch: 0100 cost= 0.033488605 W= [[ 1.7482502  -1.56948432]\n",
      " [ 1.8285395  -1.90403978]] b= [0.02206432 0.29562479]\n",
      "Epoch: 0150 cost= 0.028988434 W= [[ 1.86750492 -1.73538401]\n",
      " [ 2.07820994 -2.1239364 ]] b= [-0.12474531  0.36308713]\n",
      "Epoch: 0200 cost= 0.026367164 W= [[ 1.96064091 -1.85748524]\n",
      " [ 2.2709593  -2.30090791]] b= [-0.2249807   0.41180407]\n",
      "Epoch: 0250 cost= 0.024585715 W= [[ 2.04035596 -1.95676353]\n",
      " [ 2.43044565 -2.45094503]] b= [-0.29926486  0.44984611]\n",
      "Epoch: 0300 cost= 0.023265014 W= [[ 2.11186656 -2.04228137]\n",
      " [ 2.56764466 -2.58200666]] b= [-0.35726844  0.48111645]\n",
      "Epoch: 0350 cost= 0.022229716 W= [[ 2.17770702 -2.11859429]\n",
      " [ 2.68872157 -2.69885052]] b= [-0.40424007  0.50772141]\n",
      "Epoch: 0400 cost= 0.021386042 W= [[ 2.23926534 -2.18824503]\n",
      " [ 2.79754754 -2.8046193 ]] b= [-0.44331249  0.53089864]\n",
      "Epoch: 0450 cost= 0.020678654 W= [[ 2.29738214 -2.25277765]\n",
      " [ 2.89673212 -2.90151608]] b= [-0.47649002  0.55143092]\n",
      "Epoch: 0500 cost= 0.020072490 W= [[ 2.35261309 -2.31319953]\n",
      " [ 2.98812274 -2.99114722]] b= [-0.50512559  0.56984633]\n",
      "Epoch: 0550 cost= 0.019544095 W= [[ 2.40535367 -2.37020936]\n",
      " [ 3.07307579 -3.07471839]] b= [-0.5301722   0.58652118]\n",
      "Epoch: 0600 cost= 0.019077094 W= [[ 2.45590246 -2.42431705]\n",
      " [ 3.15261607 -3.15315566]] b= [-0.55232452  0.60173581]\n",
      "Epoch: 0650 cost= 0.018659650 W= [[ 2.50449524 -2.4759104 ]\n",
      " [ 3.22753639 -3.22718449]] b= [-0.57210322  0.61570651]\n",
      "Epoch: 0700 cost= 0.018282956 W= [[ 2.55132449 -2.52529419]\n",
      " [ 3.2984625  -3.29738302]] b= [-0.58990766  0.62860477]\n",
      "Epoch: 0750 cost= 0.017940299 W= [[ 2.59655125 -2.57271425]\n",
      " [ 3.36589693 -3.36421914]] b= [-0.60605001  0.64056937]\n",
      "Epoch: 0800 cost= 0.017626456 W= [[ 2.64031265 -2.61837297]\n",
      " [ 3.43024946 -3.42807674]] b= [-0.62077833  0.65171447]\n",
      "Epoch: 0850 cost= 0.017337290 W= [[ 2.6827271  -2.66243978]\n",
      " [ 3.49185875 -3.48927478]] b= [-0.63429241  0.66213522]\n",
      "Epoch: 0900 cost= 0.017069471 W= [[ 2.72389796 -2.70505843]\n",
      " [ 3.55100808 -3.54808124]] b= [-0.64675518  0.67191172]\n",
      "Epoch: 0950 cost= 0.016820284 W= [[ 2.76391615 -2.74635225]\n",
      " [ 3.60793691 -3.60472353]] b= [-0.65830088  0.681112  ]\n",
      "Epoch: 1000 cost= 0.016587488 W= [[ 2.80286231 -2.78642809]\n",
      " [ 3.66284962 -3.65939647]] b= [-0.66904117  0.68979433]\n",
      "Optimization Finished!\n",
      "Training cost= 0.016587487669542565 W= [[ 2.80286231 -2.78642809]\n",
      " [ 3.66284962 -3.65939647]] b= [-0.66904117  0.68979433] \n",
      "\n",
      "Epoch: 0050 cost= 0.042051827 W= [[ 1.29583138 -0.80292386]\n",
      " [ 1.50263281 -2.19219745]] b= [-0.03169855 -0.05231465]\n",
      "Epoch: 0100 cost= 0.030849415 W= [[ 1.24636276 -0.98436232]\n",
      " [ 2.02461941 -2.52390156]] b= [ 0.09684505 -0.11901208]\n",
      "Epoch: 0150 cost= 0.025657109 W= [[ 1.21697519 -1.06357937]\n",
      " [ 2.38087118 -2.77868059]] b= [ 0.16971509 -0.16536637]\n",
      "Epoch: 0200 cost= 0.022447897 W= [[ 1.20366465 -1.10836481]\n",
      " [ 2.6582714  -2.99248285]] b= [ 0.21491718 -0.19960926]\n",
      "Epoch: 0250 cost= 0.020185263 W= [[ 1.19945607 -1.13796095]\n",
      " [ 2.88877233 -3.17911401]] b= [ 0.24475453 -0.22553336]\n",
      "Epoch: 0300 cost= 0.018465989 W= [[ 1.20035989 -1.15980561]\n",
      " [ 3.08784267 -3.3459051 ]] b= [ 0.26537773 -0.24550373]\n",
      "Epoch: 0350 cost= 0.017095533 W= [[ 1.20420704 -1.17727836]\n",
      " [ 3.2641857  -3.49737211]] b= [ 0.28015184 -0.26111656]\n",
      "Epoch: 0400 cost= 0.015966328 W= [[ 1.20978948 -1.19208684]\n",
      " [ 3.42320763 -3.63654714]] b= [ 0.29104833 -0.27348617]\n",
      "Epoch: 0450 cost= 0.015013051 W= [[ 1.21641084 -1.20516435]\n",
      " [ 3.56851204 -3.76558645]] b= [ 0.29928493 -0.28340744]\n",
      "Epoch: 0500 cost= 0.014193230 W= [[ 1.22365627 -1.21705378]\n",
      " [ 3.7026313  -3.88608885]] b= [ 0.30564594 -0.29145721]\n",
      "Epoch: 0550 cost= 0.013477784 W= [[ 1.23127141 -1.22808772]\n",
      " [ 3.82741965 -3.9992786 ]] b= [ 0.31065393 -0.2980602 ]\n",
      "Epoch: 0600 cost= 0.012845972 W= [[ 1.23909639 -1.2384792 ]\n",
      " [ 3.94428006 -4.10611754]] b= [ 0.31466695 -0.30353327]\n",
      "Epoch: 0650 cost= 0.012282513 W= [[ 1.24702868 -1.24837013]\n",
      " [ 4.05430292 -4.20737744]] b= [ 0.31793622 -0.30811563]\n",
      "Epoch: 0700 cost= 0.011775841 W= [[ 1.25500144 -1.25785838]\n",
      " [ 4.1583547  -4.30368862]] b= [ 0.32064154 -0.31198978]\n",
      "Epoch: 0750 cost= 0.011317002 W= [[ 1.26297056 -1.26701357]\n",
      " [ 4.25713703 -4.39557361]] b= [ 0.32291389 -0.31529637]\n",
      "Epoch: 0800 cost= 0.010898933 W= [[ 1.2709067  -1.27588665]\n",
      " [ 4.35122717 -4.48347125]] b= [ 0.32485012 -0.31814477]\n",
      "Epoch: 0850 cost= 0.010515969 W= [[ 1.2787903  -1.28451586]\n",
      " [ 4.44110667 -4.56775426]] b= [ 0.32652285 -0.32062074]\n",
      "Epoch: 0900 cost= 0.010163503 W= [[ 1.28660837 -1.29293059]\n",
      " [ 4.52718211 -4.64874231]] b= [ 0.32798711 -0.32279206]\n",
      "Epoch: 0950 cost= 0.009837741 W= [[ 1.29435237 -1.30115387]\n",
      " [ 4.60980035 -4.72671202]] b= [ 0.32928513 -0.32471267]\n",
      "Epoch: 1000 cost= 0.009535524 W= [[ 1.30201685 -1.30920413]\n",
      " [ 4.6892601  -4.80190459]] b= [ 0.33044958 -0.3264258 ]\n",
      "Optimization Finished!\n",
      "Training cost= 0.009535523559717502 W= [[ 1.30201685 -1.30920413]\n",
      " [ 4.6892601  -4.80190459]] b= [ 0.33044958 -0.3264258 ] \n",
      "\n",
      "Epoch: 0050 cost= 0.052953595 W= [[ 1.30820634 -1.46395071]\n",
      " [ 1.46284344 -1.51981832]] b= [0.31411522 0.14035917]\n",
      "Epoch: 0100 cost= 0.044012646 W= [[ 1.45738509 -1.47806974]\n",
      " [ 1.8503859  -1.90764872]] b= [ 0.27932985 -0.00324917]\n",
      "Epoch: 0150 cost= 0.040874680 W= [[ 1.55142382 -1.52992823]\n",
      " [ 2.08317952 -2.13620687]] b= [ 0.26760347 -0.07562135]\n",
      "Epoch: 0200 cost= 0.039308236 W= [[ 1.6257009  -1.59165439]\n",
      " [ 2.24636803 -2.29172362]] b= [ 0.26359003 -0.11858914]\n",
      "Epoch: 0250 cost= 0.038375098 W= [[ 1.68857743 -1.65227397]\n",
      " [ 2.36976941 -2.40718497]] b= [ 0.26357819 -0.1481999 ]\n",
      "Epoch: 0300 cost= 0.037759833 W= [[ 1.7433337  -1.70837183]\n",
      " [ 2.46759528 -2.49793808]] b= [ 0.26614838 -0.17117691]\n",
      "Epoch: 0350 cost= 0.037326965 W= [[ 1.79176349 -1.75926866]\n",
      " [ 2.54770887 -2.57209202]] b= [ 0.27054253 -0.19055955]\n",
      "Epoch: 0400 cost= 0.037008329 W= [[ 1.83505571 -1.80522252]\n",
      " [ 2.61488921 -2.63435839]] b= [ 0.27626567 -0.20780883]\n",
      "Epoch: 0450 cost= 0.036765764 W= [[ 1.87407875 -1.84676511]\n",
      " [ 2.67224344 -2.68768966]] b= [ 0.28296157 -0.22366518]\n",
      "Epoch: 0500 cost= 0.036576216 W= [[ 1.90949854 -1.88445945]\n",
      " [ 2.72189937 -2.73405356]] b= [ 0.29036261 -0.23852305]\n",
      "Epoch: 0550 cost= 0.036424949 W= [[ 1.94183983 -1.91881796]\n",
      " [ 2.76537584 -2.77482935]] b= [ 0.29826388 -0.25260356]\n",
      "Epoch: 0600 cost= 0.036302124 W= [[ 1.97152349 -1.95028174]\n",
      " [ 2.80379429 -2.81102429]] b= [ 0.30650694 -0.26603758]\n",
      "Epoch: 0650 cost= 0.036200930 W= [[ 1.99889181 -1.9792224 ]\n",
      " [ 2.83800619 -2.84339879]] b= [ 0.31496857 -0.27890732]\n",
      "Epoch: 0700 cost= 0.036116517 W= [[ 2.02422647 -2.00595089]\n",
      " [ 2.86867319 -2.87254252]] b= [ 0.32355262 -0.29126766]\n",
      "Epoch: 0750 cost= 0.036045344 W= [[ 2.04776169 -2.03072763]\n",
      " [ 2.8963196  -2.89892288]] b= [ 0.33218382 -0.30315772]\n",
      "Epoch: 0800 cost= 0.035984773 W= [[ 2.06969416 -2.05377164]\n",
      " [ 2.9213678  -2.92291705]] b= [ 0.34080321 -0.31460708]\n",
      "Epoch: 0850 cost= 0.035932800 W= [[ 2.09019058 -2.07526826]\n",
      " [ 2.94416289 -2.94483395]] b= [ 0.34936457 -0.32563938]\n",
      "Epoch: 0900 cost= 0.035887880 W= [[ 2.10939333 -2.09537543]\n",
      " [ 2.96499025 -2.96492982]] b= [ 0.35783177 -0.33627444]\n",
      "Epoch: 0950 cost= 0.035848804 W= [[ 2.12742505 -2.11422863]\n",
      " [ 2.9840884  -2.98341945]] b= [ 0.36617664 -0.34652949]\n",
      "Epoch: 1000 cost= 0.035814615 W= [[ 2.14439203 -2.13194493]\n",
      " [ 3.00165849 -3.00048457]] b= [ 0.37437743 -0.35641997]\n",
      "Optimization Finished!\n",
      "Training cost= 0.035814615196453806 W= [[ 2.14439203 -2.13194493]\n",
      " [ 3.00165849 -3.00048457]] b= [ 0.37437743 -0.35641997] \n",
      "\n"
     ]
    },
    {
     "data": {
      "text/plain": [
       "0.9800000000000001"
      ]
     },
     "execution_count": 25,
     "metadata": {},
     "output_type": "execute_result"
    }
   ],
   "source": [
    "from sklearn.model_selection import cross_val_score\n",
    "cross_val_score(logisticTF, trainX, trainY, cv=5).mean()"
   ]
  },
  {
   "cell_type": "markdown",
   "metadata": {
    "_uuid": "9a0cef56531effeecabd924543bdb8b84141395e"
   },
   "source": [
    "### 用tensorflow来实现KNN "
   ]
  },
  {
   "cell_type": "code",
   "execution_count": 26,
   "metadata": {
    "_uuid": "bb3747d8baceba10402b08cac9f34a5d1cf134e5"
   },
   "outputs": [],
   "source": [
    "tf.reset_default_graph()"
   ]
  },
  {
   "cell_type": "code",
   "execution_count": 27,
   "metadata": {
    "_uuid": "1eeb09e45a4074a3de195254f10e9035523940c4"
   },
   "outputs": [],
   "source": [
    "#from tensorflow.examples.tutorials.mnist import input_data\n",
    "#mnist = input_data.read_data_sets(\"/tmp/data/\", one_hot=True)\n",
    "#trainX, trainY = mnist.train.next_batch(5000) #5000个数据作为近邻集合\n",
    "#testX, testY = mnist.test.next_batch(200) #200个数据用于测试"
   ]
  },
  {
   "cell_type": "code",
   "execution_count": null,
   "metadata": {
    "_uuid": "c14f44b0ef5421cf6eb1b37189a2cd09e87517fc",
    "collapsed": true,
    "jupyter": {
     "outputs_hidden": true
    }
   },
   "outputs": [],
   "source": []
  },
  {
   "cell_type": "code",
   "execution_count": 30,
   "metadata": {
    "_uuid": "bbdefa17ac0e0055d01dfe8acc0725297365851b"
   },
   "outputs": [],
   "source": [
    "import os\n",
    "data_folder = \"./input/ninechapterdigitsub\"\n",
    "#data_folder = \"data\"\n",
    "trainX = np.genfromtxt(os.path.join(data_folder, \"digit_mnist_trainx.csv\"), delimiter=',')\n",
    "trainY = np.genfromtxt(os.path.join(data_folder, \"digit_mnist_trainy.csv\"), delimiter=',')\n",
    "testX = np.genfromtxt(os.path.join(data_folder, \"digit_mnist_testx.csv\"), delimiter=',')\n",
    "testY = np.genfromtxt(os.path.join(data_folder, \"digit_mnist_testy.csv\"), delimiter=',')"
   ]
  },
  {
   "cell_type": "markdown",
   "metadata": {
    "_uuid": "4373a1bc274569a9df6fc54df3c5968500bfd3fa"
   },
   "source": [
    "### define your computing graph"
   ]
  },
  {
   "cell_type": "code",
   "execution_count": 32,
   "metadata": {
    "_uuid": "8c4f49419a73a712f13f2a22ecfbd32f0fc15fff"
   },
   "outputs": [],
   "source": [
    "xtr = tf.placeholder(\"float\", [None, 784])\n",
    "xte = tf.placeholder(\"float\", [784])"
   ]
  },
  {
   "cell_type": "code",
   "execution_count": 33,
   "metadata": {
    "_uuid": "4ba548544bd8ba4d88807f836d3bce36e9e1ee77"
   },
   "outputs": [],
   "source": [
    "distance = tf.sqrt(tf.reduce_sum(tf.square(tf.subtract(xtr, xte)), reduction_indices=1))\n",
    "\n",
    "# train 0: [1,...1]\n",
    "# train 1: [0,...0]\n",
    "# test : [1,...1]\n",
    "# tf.subtract(xtr, xte):\n",
    "#  0: [0,...0]\n",
    "#  1: [-1,...-1]\n",
    "# tf.square:\n",
    "#  0: [0,...0]\n",
    "#  1: [1,...1]\n",
    "#  tf.reduce_sum(tf.square(tf.subtract(xtr, xte)), reduction_indices=1):\n",
    "#  0: [0]\n",
    "#  1: [784]\n",
    "\n"
   ]
  },
  {
   "cell_type": "code",
   "execution_count": 34,
   "metadata": {
    "_uuid": "860a83a6d46e51d6f135d30fa258ea8572a3485e"
   },
   "outputs": [],
   "source": [
    "# 因为是topk大的值，这里distance取负号\n",
    "KVALUE = 1\n",
    "pred= tf.nn.top_k(-distance, k=KVALUE)"
   ]
  },
  {
   "cell_type": "code",
   "execution_count": 35,
   "metadata": {
    "_uuid": "770f1cb9f04269a9800acda73c6ce216217bb224"
   },
   "outputs": [
    {
     "name": "stdout",
     "output_type": "stream",
     "text": [
      "Test 0 Prediction: 2 True Class: 2\n",
      "Test 1 Prediction: 3 True Class: 3\n",
      "Test 2 Prediction: 3 True Class: 3\n",
      "Test 3 Prediction: 9 True Class: 9\n",
      "Test 4 Prediction: 7 True Class: 7\n",
      "Test 5 Prediction: 7 True Class: 7\n",
      "Test 6 Prediction: 7 True Class: 7\n",
      "Test 7 Prediction: 3 True Class: 3\n",
      "Test 8 Prediction: 1 True Class: 1\n",
      "Test 9 Prediction: 9 True Class: 9\n",
      "Test 10 Prediction: 9 True Class: 9\n",
      "Test 11 Prediction: 0 True Class: 0\n",
      "Test 12 Prediction: 9 True Class: 9\n",
      "Test 13 Prediction: 1 True Class: 1\n",
      "Test 14 Prediction: 0 True Class: 0\n",
      "Test 15 Prediction: 7 True Class: 7\n",
      "Test 16 Prediction: 3 True Class: 3\n",
      "Test 17 Prediction: 9 True Class: 9\n",
      "Test 18 Prediction: 1 True Class: 1\n",
      "Test 19 Prediction: 4 True Class: 4\n",
      "Test 20 Prediction: 4 True Class: 4\n",
      "Test 21 Prediction: 1 True Class: 1\n",
      "Test 22 Prediction: 1 True Class: 1\n",
      "Test 23 Prediction: 7 True Class: 7\n",
      "Test 24 Prediction: 2 True Class: 3\n",
      "Test 25 Prediction: 4 True Class: 4\n",
      "Test 26 Prediction: 7 True Class: 7\n",
      "Test 27 Prediction: 7 True Class: 7\n",
      "Test 28 Prediction: 8 True Class: 5\n",
      "Test 29 Prediction: 1 True Class: 1\n",
      "Test 30 Prediction: 1 True Class: 1\n",
      "Test 31 Prediction: 2 True Class: 2\n",
      "Test 32 Prediction: 6 True Class: 6\n",
      "Test 33 Prediction: 5 True Class: 5\n",
      "Test 34 Prediction: 4 True Class: 4\n",
      "Test 35 Prediction: 4 True Class: 4\n",
      "Test 36 Prediction: 9 True Class: 9\n",
      "Test 37 Prediction: 8 True Class: 8\n",
      "Test 38 Prediction: 2 True Class: 2\n",
      "Test 39 Prediction: 7 True Class: 7\n",
      "Test 40 Prediction: 8 True Class: 8\n",
      "Test 41 Prediction: 5 True Class: 5\n",
      "Test 42 Prediction: 9 True Class: 9\n",
      "Test 43 Prediction: 1 True Class: 1\n",
      "Test 44 Prediction: 9 True Class: 9\n",
      "Test 45 Prediction: 1 True Class: 1\n",
      "Test 46 Prediction: 3 True Class: 3\n",
      "Test 47 Prediction: 1 True Class: 1\n",
      "Test 48 Prediction: 4 True Class: 4\n",
      "Test 49 Prediction: 9 True Class: 9\n",
      "Test 50 Prediction: 8 True Class: 8\n",
      "Test 51 Prediction: 6 True Class: 6\n",
      "Test 52 Prediction: 4 True Class: 4\n",
      "Test 53 Prediction: 3 True Class: 3\n",
      "Test 54 Prediction: 5 True Class: 5\n",
      "Test 55 Prediction: 9 True Class: 9\n",
      "Test 56 Prediction: 9 True Class: 7\n",
      "Test 57 Prediction: 7 True Class: 7\n",
      "Test 58 Prediction: 5 True Class: 5\n",
      "Test 59 Prediction: 1 True Class: 1\n",
      "Test 60 Prediction: 9 True Class: 9\n",
      "Test 61 Prediction: 1 True Class: 1\n",
      "Test 62 Prediction: 1 True Class: 1\n",
      "Test 63 Prediction: 4 True Class: 4\n",
      "Test 64 Prediction: 7 True Class: 7\n",
      "Test 65 Prediction: 3 True Class: 3\n",
      "Test 66 Prediction: 1 True Class: 1\n",
      "Test 67 Prediction: 7 True Class: 7\n",
      "Test 68 Prediction: 7 True Class: 7\n",
      "Test 69 Prediction: 4 True Class: 4\n",
      "Test 70 Prediction: 0 True Class: 0\n",
      "Test 71 Prediction: 9 True Class: 9\n",
      "Test 72 Prediction: 6 True Class: 6\n",
      "Test 73 Prediction: 7 True Class: 7\n",
      "Test 74 Prediction: 7 True Class: 7\n",
      "Test 75 Prediction: 5 True Class: 5\n",
      "Test 76 Prediction: 6 True Class: 6\n",
      "Test 77 Prediction: 8 True Class: 8\n",
      "Test 78 Prediction: 9 True Class: 9\n",
      "Test 79 Prediction: 5 True Class: 5\n",
      "Test 80 Prediction: 3 True Class: 3\n",
      "Test 81 Prediction: 6 True Class: 6\n",
      "Test 82 Prediction: 1 True Class: 1\n",
      "Test 83 Prediction: 9 True Class: 9\n",
      "Test 84 Prediction: 6 True Class: 6\n",
      "Test 85 Prediction: 8 True Class: 8\n",
      "Test 86 Prediction: 9 True Class: 9\n",
      "Test 87 Prediction: 7 True Class: 7\n",
      "Test 88 Prediction: 1 True Class: 1\n",
      "Test 89 Prediction: 2 True Class: 9\n",
      "Test 90 Prediction: 7 True Class: 7\n",
      "Test 91 Prediction: 7 True Class: 7\n",
      "Test 92 Prediction: 4 True Class: 4\n",
      "Test 93 Prediction: 3 True Class: 3\n",
      "Test 94 Prediction: 1 True Class: 1\n",
      "Test 95 Prediction: 8 True Class: 8\n",
      "Test 96 Prediction: 0 True Class: 0\n",
      "Test 97 Prediction: 1 True Class: 1\n",
      "Test 98 Prediction: 9 True Class: 9\n",
      "Test 99 Prediction: 1 True Class: 1\n",
      "Test 100 Prediction: 7 True Class: 7\n",
      "Test 101 Prediction: 1 True Class: 1\n",
      "Test 102 Prediction: 2 True Class: 2\n",
      "Test 103 Prediction: 6 True Class: 6\n",
      "Test 104 Prediction: 0 True Class: 8\n",
      "Test 105 Prediction: 8 True Class: 8\n",
      "Test 106 Prediction: 3 True Class: 3\n",
      "Test 107 Prediction: 8 True Class: 8\n",
      "Test 108 Prediction: 3 True Class: 3\n",
      "Test 109 Prediction: 8 True Class: 8\n",
      "Test 110 Prediction: 0 True Class: 0\n",
      "Test 111 Prediction: 7 True Class: 7\n",
      "Test 112 Prediction: 2 True Class: 2\n",
      "Test 113 Prediction: 5 True Class: 5\n",
      "Test 114 Prediction: 2 True Class: 2\n",
      "Test 115 Prediction: 4 True Class: 4\n",
      "Test 116 Prediction: 3 True Class: 3\n",
      "Test 117 Prediction: 5 True Class: 5\n",
      "Test 118 Prediction: 7 True Class: 7\n",
      "Test 119 Prediction: 9 True Class: 9\n",
      "Test 120 Prediction: 8 True Class: 8\n",
      "Test 121 Prediction: 5 True Class: 5\n",
      "Test 122 Prediction: 7 True Class: 7\n",
      "Test 123 Prediction: 9 True Class: 9\n",
      "Test 124 Prediction: 2 True Class: 2\n",
      "Test 125 Prediction: 1 True Class: 1\n",
      "Test 126 Prediction: 4 True Class: 4\n",
      "Test 127 Prediction: 8 True Class: 8\n",
      "Test 128 Prediction: 6 True Class: 5\n",
      "Test 129 Prediction: 3 True Class: 3\n",
      "Test 130 Prediction: 7 True Class: 7\n",
      "Test 131 Prediction: 7 True Class: 2\n",
      "Test 132 Prediction: 6 True Class: 6\n",
      "Test 133 Prediction: 3 True Class: 3\n",
      "Test 134 Prediction: 8 True Class: 8\n",
      "Test 135 Prediction: 7 True Class: 7\n",
      "Test 136 Prediction: 4 True Class: 4\n",
      "Test 137 Prediction: 6 True Class: 6\n",
      "Test 138 Prediction: 0 True Class: 0\n",
      "Test 139 Prediction: 0 True Class: 0\n",
      "Test 140 Prediction: 5 True Class: 5\n",
      "Test 141 Prediction: 4 True Class: 4\n",
      "Test 142 Prediction: 2 True Class: 2\n",
      "Test 143 Prediction: 9 True Class: 4\n",
      "Test 144 Prediction: 8 True Class: 8\n",
      "Test 145 Prediction: 2 True Class: 2\n",
      "Test 146 Prediction: 8 True Class: 8\n",
      "Test 147 Prediction: 5 True Class: 5\n",
      "Test 148 Prediction: 3 True Class: 3\n",
      "Test 149 Prediction: 6 True Class: 6\n",
      "Test 150 Prediction: 2 True Class: 2\n",
      "Test 151 Prediction: 9 True Class: 9\n",
      "Test 152 Prediction: 6 True Class: 6\n",
      "Test 153 Prediction: 7 True Class: 7\n",
      "Test 154 Prediction: 0 True Class: 0\n",
      "Test 155 Prediction: 0 True Class: 0\n",
      "Test 156 Prediction: 7 True Class: 7\n",
      "Test 157 Prediction: 4 True Class: 4\n",
      "Test 158 Prediction: 5 True Class: 5\n",
      "Test 159 Prediction: 0 True Class: 0\n",
      "Test 160 Prediction: 9 True Class: 9\n",
      "Test 161 Prediction: 1 True Class: 1\n",
      "Test 162 Prediction: 2 True Class: 2\n",
      "Test 163 Prediction: 8 True Class: 8\n",
      "Test 164 Prediction: 0 True Class: 0\n",
      "Test 165 Prediction: 0 True Class: 0\n",
      "Test 166 Prediction: 1 True Class: 1\n",
      "Test 167 Prediction: 3 True Class: 3\n",
      "Test 168 Prediction: 0 True Class: 0\n",
      "Test 169 Prediction: 5 True Class: 5\n",
      "Test 170 Prediction: 1 True Class: 1\n",
      "Test 171 Prediction: 0 True Class: 0\n",
      "Test 172 Prediction: 1 True Class: 1\n",
      "Test 173 Prediction: 8 True Class: 8\n",
      "Test 174 Prediction: 9 True Class: 9\n",
      "Test 175 Prediction: 0 True Class: 0\n",
      "Test 176 Prediction: 7 True Class: 7\n",
      "Test 177 Prediction: 4 True Class: 4\n",
      "Test 178 Prediction: 2 True Class: 2\n",
      "Test 179 Prediction: 4 True Class: 4\n",
      "Test 180 Prediction: 4 True Class: 4\n",
      "Test 181 Prediction: 5 True Class: 5\n",
      "Test 182 Prediction: 0 True Class: 0\n",
      "Test 183 Prediction: 9 True Class: 4\n",
      "Test 184 Prediction: 3 True Class: 3\n",
      "Test 185 Prediction: 8 True Class: 8\n",
      "Test 186 Prediction: 2 True Class: 2\n",
      "Test 187 Prediction: 7 True Class: 7\n",
      "Test 188 Prediction: 0 True Class: 0\n",
      "Test 189 Prediction: 1 True Class: 1\n",
      "Test 190 Prediction: 7 True Class: 7\n",
      "Test 191 Prediction: 9 True Class: 9\n",
      "Test 192 Prediction: 2 True Class: 2\n",
      "Test 193 Prediction: 7 True Class: 7\n",
      "Test 194 Prediction: 2 True Class: 2\n",
      "Test 195 Prediction: 0 True Class: 0\n",
      "Test 196 Prediction: 0 True Class: 0\n",
      "Test 197 Prediction: 5 True Class: 5\n",
      "Test 198 Prediction: 7 True Class: 7\n",
      "Test 199 Prediction: 0 True Class: 0\n",
      "Done!\n",
      "Accuracy: 0.9550000000000007\n"
     ]
    }
   ],
   "source": [
    "from collections import Counter\n",
    "accuracy = 0.\n",
    "\n",
    "# 初始化参数\n",
    "init = tf.global_variables_initializer()\n",
    "\n",
    "\n",
    "# 开始训练\n",
    "with tf.Session() as sess:\n",
    "    sess.run(init)\n",
    "\n",
    "    # 预测测试数据的标签 (passive learner)\n",
    "    for i in range(len(testX)):\n",
    "        # 最近邻的序号\n",
    "        values, knn_index = sess.run(pred, feed_dict={xtr: trainX, xte: testX[i, :]})\n",
    "\n",
    "        # 拿到k个邻居后做全民公投，得票最多的为预测标签\n",
    "        c = Counter(np.argmax(trainY[knn_index], axis=1))\n",
    "        result = c.most_common(KVALUE)[0][0]\n",
    "        # 计算最近邻的标签和真实标签值\n",
    "        print(\"Test\", i, \"Prediction:\", result, \\\n",
    "            \"True Class:\", np.argmax(testY[i]))\n",
    "        # 正确率\n",
    "        if result == np.argmax(testY[i]):\n",
    "\n",
    "            accuracy += 1./len(testX)\n",
    "    print(\"Done!\")\n",
    "    print(\"Accuracy:\", accuracy)"
   ]
  },
  {
   "cell_type": "markdown",
   "metadata": {
    "_uuid": "df46db7723f3ab4e881233d6ba175078d98ab8d4"
   },
   "source": [
    "### 用tensorflow 实现naive bayes"
   ]
  },
  {
   "cell_type": "code",
   "execution_count": 36,
   "metadata": {
    "_uuid": "c77618f3d391f0ba80fe5bcbb4710e2146bbe049"
   },
   "outputs": [],
   "source": [
    "tf.reset_default_graph()"
   ]
  },
  {
   "cell_type": "code",
   "execution_count": 37,
   "metadata": {
    "_uuid": "13e6dff3f4d79326fb6e383e9096ad30c4ec711c"
   },
   "outputs": [
    {
     "data": {
      "image/png": "[encoded data removed]",
      "text/plain": [
       "<Figure size 432x288 with 1 Axes>"
      ]
     },
     "metadata": {
      "needs_background": "light"
     },
     "output_type": "display_data"
    }
   ],
   "source": [
    "N = 120\n",
    "D = 2\n",
    "trainX = np.random.randn(N, D)\n",
    "\n",
    "delta = 2\n",
    "#trainX[:N//3] += np.array([delta, delta])\n",
    "#trainX[N//3:N*2//3] += np.array([-delta, delta])\n",
    "#trainX[N*2//3:] += np.array([0, -delta])\n",
    "\n",
    "\n",
    "delta = 1.75\n",
    "trainX[:N//2] += np.array([delta, delta])\n",
    "trainX[N//2:] += np.array([-delta, -delta])\n",
    "\n",
    "trainY = np.array([0] * (N//2) + [1] * (N//2))\n",
    "plt.scatter(trainX[:,0], trainX[:,1], s=100, c=trainY, alpha=0.5)\n",
    "plt.show()"
   ]
  },
  {
   "cell_type": "code",
   "execution_count": 38,
   "metadata": {
    "_uuid": "67a2139d734d47d85cec0b028f3be82c0c1b6d35"
   },
   "outputs": [],
   "source": [
    "from sklearn.metrics import accuracy_score"
   ]
  },
  {
   "cell_type": "code",
   "execution_count": 39,
   "metadata": {
    "_uuid": "9bb7f9358b55cd9d4f58ecf03af3018d2522fd70"
   },
   "outputs": [],
   "source": [
    "from matplotlib import colors\n",
    "from sklearn.utils.fixes import logsumexp\n",
    "\n",
    "\n",
    "class NaiveBayesTF(BaseEstimator):\n",
    "    \n",
    "    def __init__(self):\n",
    "        self.dist = None\n",
    "        self.sess = tf.Session()\n",
    "\n",
    "    def fit(self, trainX, trainY):\n",
    "        # Separate training points by class (nb_classes * nb_samples * nb_features)\n",
    "        unique_classes = np.unique(trainY)\n",
    "        points_by_class = np.array([\n",
    "            [x for x, y in zip(trainX, trainY) if y == c]\n",
    "            for c in unique_classes])\n",
    "        \n",
    "        input_x = tf.placeholder(tf.float64, shape=points_by_class.shape)\n",
    "        # 估计每个类底下每一种feature的均值和方差\n",
    "        # shape: num_classes * nb_features\n",
    "        \n",
    "        moments = tf.nn.moments(input_x, axes=[1])\n",
    "        mean, var = self.sess.run(moments, feed_dict={input_x:points_by_class})\n",
    "        #print(mean.shape)\n",
    "        #print(var.shape)\n",
    "        \n",
    "        # 点集实验里为2类，每个数据点有2个特征 \n",
    "        # known mean and variance\n",
    "        self.dist = tf.distributions.Normal(loc=mean, scale=tf.sqrt(var))\n",
    "        \n",
    "\n",
    "    def predict(self, testX):\n",
    "        assert self.dist is not None\n",
    "        num_classes, num_features = map(int, self.dist.scale.shape)\n",
    "\n",
    "        # 条件概率 log P(x|c)\n",
    "        # (nb_samples, nb_classes)\n",
    "        cond_probs = tf.reduce_sum(\n",
    "            self.dist.log_prob(\n",
    "                tf.reshape(\n",
    "                    tf.tile(testX, [1, num_classes]), [-1, num_classes, num_features])),\n",
    "            axis=2)\n",
    "        \n",
    "        # 第一个点: 2.0,3.5\n",
    "        # 第二个点: 0.5,1.4\n",
    "        # tf.tile (num_classes = 2):\n",
    "        # 第一个点: 2.0,3.5,2.0,3.5\n",
    "        # 第二个点: 0.5,1.4,0.5,1.4\n",
    "        # tf.reshape:\n",
    "        # 第一个点: 2.0,3.5 \n",
    "        #         2.0,3.5\n",
    "        # 第二个点：0.5,1.4\n",
    "        #         0.5,1.4\n",
    "\n",
    "        # P(C) 均匀分布\n",
    "        priors = np.log(np.array([1. / num_classes] * num_classes))\n",
    "\n",
    "        # 后验概率取log, log P(C) + log P(x|C)\n",
    "        posterior = tf.add(priors, cond_probs)\n",
    "        \n",
    "        # 取概率最大的那一个\n",
    "        result = self.sess.run(tf.argmax(posterior, axis=1))\n",
    "\n",
    "        return result\n",
    "    \n",
    "    \n",
    "    def score(self, testX, testY):\n",
    "        result = self.predict(testX)\n",
    "        return accuracy_score(testY, result)\n"
   ]
  },
  {
   "cell_type": "code",
   "execution_count": 40,
   "metadata": {
    "_uuid": "69c8fae1921c786d6d68866a6d118e31fecacfa5"
   },
   "outputs": [
    {
     "name": "stderr",
     "output_type": "stream",
     "text": [
      "W0927 12:58:51.943045 4712420800 deprecation.py:323] From <ipython-input-39-f27c92880cf9>:29: Normal.__init__ (from tensorflow.python.ops.distributions.normal) is deprecated and will be removed after 2019-01-01.\n",
      "Instructions for updating:\n",
      "The TensorFlow Distributions library has moved to TensorFlow Probability (https://github.com/tensorflow/probability). You should update all references to use `tfp.distributions` instead of `tf.distributions`.\n",
      "W0927 12:58:51.945861 4712420800 deprecation.py:323] From /anaconda3/lib/python3.7/site-packages/tensorflow/python/ops/distributions/normal.py:160: Distribution.__init__ (from tensorflow.python.ops.distributions.distribution) is deprecated and will be removed after 2019-01-01.\n",
      "Instructions for updating:\n",
      "The TensorFlow Distributions library has moved to TensorFlow Probability (https://github.com/tensorflow/probability). You should update all references to use `tfp.distributions` instead of `tf.distributions`.\n"
     ]
    }
   ],
   "source": [
    "tf_nb = NaiveBayesTF()\n",
    "tf_nb.fit(trainX, trainY)"
   ]
  },
  {
   "cell_type": "code",
   "execution_count": 41,
   "metadata": {
    "_uuid": "3a92d8f5470066ca99e6d5a12489d73589ea13ec"
   },
   "outputs": [],
   "source": [
    "x_min, x_max = trainX[:, 0].min() - .5, trainX[:, 0].max() + .5\n",
    "y_min, y_max = trainX[:, 1].min() - .5, trainX[:, 1].max() + .5\n",
    "xx, yy = np.meshgrid(np.linspace(x_min, x_max, 30),\n",
    "                     np.linspace(y_min, y_max, 30))"
   ]
  },
  {
   "cell_type": "code",
   "execution_count": 42,
   "metadata": {
    "_uuid": "363a7e31ef97c9eec7cb01efec7a660e8d9472a4"
   },
   "outputs": [],
   "source": [
    "Z = tf_nb.predict(np.c_[xx.ravel(), yy.ravel()])"
   ]
  },
  {
   "cell_type": "code",
   "execution_count": 43,
   "metadata": {
    "_uuid": "1f70b671eb32f72c4a8323cffcc4d7a870042707"
   },
   "outputs": [],
   "source": [
    "Z = Z.reshape(xx.shape)"
   ]
  },
  {
   "cell_type": "code",
   "execution_count": 44,
   "metadata": {
    "_uuid": "27eef12fd8d94d589c74101f1fefe7e9665e875a"
   },
   "outputs": [
    {
     "data": {
      "image/png": "[encoded data removed]",
      "text/plain": [
       "<Figure size 432x288 with 1 Axes>"
      ]
     },
     "metadata": {
      "needs_background": "light"
     },
     "output_type": "display_data"
    }
   ],
   "source": [
    "plt.scatter(trainX[:,0], trainX[:,1], s=100, c=trainY, alpha=0.5)\n",
    "plt.contour(xx, yy, Z, cmap=plt.cm.Paired)\n",
    "plt.show()"
   ]
  },
  {
   "cell_type": "code",
   "execution_count": 45,
   "metadata": {
    "_uuid": "c974982897bd5aa898c1057cc31f9d9a12473782"
   },
   "outputs": [
    {
     "data": {
      "text/plain": [
       "1.0"
      ]
     },
     "execution_count": 45,
     "metadata": {},
     "output_type": "execute_result"
    }
   ],
   "source": [
    "tf_nb.score(trainX, trainY)"
   ]
  },
  {
   "cell_type": "code",
   "execution_count": null,
   "metadata": {
    "_uuid": "d6742dea4b760221bb21c1fe83b4fefc7c26a7c5",
    "collapsed": true,
    "jupyter": {
     "outputs_hidden": true
    }
   },
   "outputs": [],
   "source": []
  },
  {
   "cell_type": "markdown",
   "metadata": {
    "_uuid": "5d284b0df80721cf8a098f0092d51cdfa48c4cbc"
   },
   "source": [
    "### Tensorflow实现random forest"
   ]
  },
  {
   "cell_type": "code",
   "execution_count": null,
   "metadata": {
    "_uuid": "c4325553138f896c9f0aac9422872230666e3c5c",
    "collapsed": true,
    "jupyter": {
     "outputs_hidden": true
    }
   },
   "outputs": [],
   "source": []
  },
  {
   "cell_type": "code",
   "execution_count": 46,
   "metadata": {
    "_uuid": "fb6a5f6d9122cb82db8b4c9084c2f613ef4e0d5e"
   },
   "outputs": [],
   "source": [
    "from tensorflow.contrib.tensor_forest.python import tensor_forest\n",
    "from tensorflow.python.ops import resources\n",
    "import pandas as pd\n",
    "import numpy as np\n",
    "import os"
   ]
  },
  {
   "cell_type": "code",
   "execution_count": 47,
   "metadata": {
    "_uuid": "970e14bd534de0686d19dab98e29a10405c83d6f"
   },
   "outputs": [],
   "source": [
    "data_folder = \"./input/fashionmnist\"\n",
    "#data_folder = \"./data\"\n",
    "train_data = pd.read_csv(os.path.join(data_folder, \"fashion-mnist_train.csv\"))\n",
    "test_data = pd.read_csv(os.path.join(data_folder, \"fashion-mnist_test.csv\"))"
   ]
  },
  {
   "cell_type": "code",
   "execution_count": 48,
   "metadata": {
    "_uuid": "11677043b47c85766a3702ab42ec4c89f6c4dd36"
   },
   "outputs": [],
   "source": [
    "trainX = np.array(train_data.iloc[:, 1:])\n",
    "trainY = np.array(train_data.iloc[:, 0])\n",
    "testX = np.array(test_data.iloc[:, 1:])\n",
    "testY = np.array(test_data.iloc[:, 0])"
   ]
  },
  {
   "cell_type": "code",
   "execution_count": 49,
   "metadata": {
    "_uuid": "ddfaa0e7c50325de06229a640ca4f838ebaa7b55"
   },
   "outputs": [],
   "source": [
    "IMAGE_CLASSES = {\n",
    "    0: 'T-shirt/top',\n",
    "    1: 'Trouser',\n",
    "    2: 'Pullover',\n",
    "    3: 'Dress',\n",
    "    4: 'Coat',\n",
    "    5: 'Sandal',\n",
    "    6: 'Shirt',\n",
    "    7: 'Sneaker',\n",
    "    8: 'Bag',\n",
    "    9: 'Ankle boot'\n",
    "}"
   ]
  },
  {
   "cell_type": "code",
   "execution_count": 50,
   "metadata": {
    "_uuid": "351904ee51ca09fcde088b691250e839b1933c7c"
   },
   "outputs": [
    {
     "data": {
      "image/png": "[encoded data removed]",
      "text/plain": [
       "<Figure size 432x288 with 1 Axes>"
      ]
     },
     "metadata": {
      "needs_background": "light"
     },
     "output_type": "display_data"
    },
    {
     "data": {
      "image/png": "[encoded data removed]",
      "text/plain": [
       "<Figure size 432x288 with 1 Axes>"
      ]
     },
     "metadata": {
      "needs_background": "light"
     },
     "output_type": "display_data"
    },
    {
     "data": {
      "image/png": "[encoded data removed]",
      "text/plain": [
       "<Figure size 432x288 with 1 Axes>"
      ]
     },
     "metadata": {
      "needs_background": "light"
     },
     "output_type": "display_data"
    },
    {
     "data": {
      "image/png": "[encoded data removed]",
      "text/plain": [
       "<Figure size 432x288 with 1 Axes>"
      ]
     },
     "metadata": {
      "needs_background": "light"
     },
     "output_type": "display_data"
    },
    {
     "data": {
      "image/png": "[encoded data removed]",
      "text/plain": [
       "<Figure size 432x288 with 1 Axes>"
      ]
     },
     "metadata": {
      "needs_background": "light"
     },
     "output_type": "display_data"
    },
    {
     "data": {
      "image/png": "[encoded data removed]",
      "text/plain": [
       "<Figure size 432x288 with 1 Axes>"
      ]
     },
     "metadata": {
      "needs_background": "light"
     },
     "output_type": "display_data"
    },
    {
     "data": {
      "image/png": "[encoded data removed]",
      "text/plain": [
       "<Figure size 432x288 with 1 Axes>"
      ]
     },
     "metadata": {
      "needs_background": "light"
     },
     "output_type": "display_data"
    },
    {
     "data": {
      "image/png": "[encoded data removed]",
      "text/plain": [
       "<Figure size 432x288 with 1 Axes>"
      ]
     },
     "metadata": {
      "needs_background": "light"
     },
     "output_type": "display_data"
    },
    {
     "data": {
      "image/png": "[encoded data removed]",
      "text/plain": [
       "<Figure size 432x288 with 1 Axes>"
      ]
     },
     "metadata": {
      "needs_background": "light"
     },
     "output_type": "display_data"
    },
    {
     "data": {
      "image/png": "[encoded data removed]",
      "text/plain": [
       "<Figure size 432x288 with 1 Axes>"
      ]
     },
     "metadata": {
      "needs_background": "light"
     },
     "output_type": "display_data"
    }
   ],
   "source": [
    "import matplotlib.pyplot as plt\n",
    "img_size = 28\n",
    "for img, label in zip(trainX[:10], trainY[:10]):\n",
    "    plt.imshow(img.reshape(img_size,img_size),cmap='gray')\n",
    "    plt.title(IMAGE_CLASSES[label])\n",
    "    plt.show()"
   ]
  },
  {
   "cell_type": "code",
   "execution_count": 51,
   "metadata": {
    "_uuid": "af39b7b109c8aea38e01f3366d03a7740cb1b396"
   },
   "outputs": [],
   "source": [
    "# 参数设定\n",
    "#The 10 categories\n",
    "#784 Each image is 28x28 pixels\n",
    "num_steps = 100# Total steps to train\n",
    "batch_size = 1024 # The number of samples per batch\n",
    "num_trees = 10\n",
    "max_nodes = 1000"
   ]
  },
  {
   "cell_type": "code",
   "execution_count": null,
   "metadata": {
    "_uuid": "52683c22745ade5fbf0b9dc3f8e58eba41da2150",
    "collapsed": true,
    "jupyter": {
     "outputs_hidden": true
    }
   },
   "outputs": [],
   "source": []
  },
  {
   "cell_type": "code",
   "execution_count": 52,
   "metadata": {
    "_uuid": "e781afd873e74277d5c7d08322a84ec59a3c8b92"
   },
   "outputs": [],
   "source": [
    "tf.reset_default_graph()\n",
    "class RandomForestTF(BaseEstimator):\n",
    "    \n",
    "    def __init__(self, num_trees):\n",
    "        self.num_trees = num_trees\n",
    "        \n",
    "    def fit(self, X, Y, num_steps, batch_size,max_nodes):\n",
    "        num_classes = 10   #len(IMAGE_CLASSES)\n",
    "        num_data = X.shape[0]\n",
    "        num_features = X.shape[1]\n",
    "        \n",
    "        self.X = tf.placeholder(tf.float32, shape=[None, num_features]) \n",
    "        self.Y = tf.placeholder(tf.int32, shape=[None]) \n",
    "        \n",
    "        \n",
    "        # 随机森林的参数\n",
    "        hparams = tensor_forest.ForestHParams(num_classes=num_classes,\n",
    "                                      num_features=num_features,\n",
    "                                      num_trees=self.num_trees,\n",
    "                                      max_nodes=max_nodes).fill()\n",
    "        \n",
    "        \n",
    "        # 随机森林的计算图\n",
    "        forest_graph = tensor_forest.RandomForestGraphs(hparams)\n",
    "        \n",
    "        train_operation = forest_graph.training_graph(self.X, self.Y)\n",
    "        loss_operation = forest_graph.training_loss(self.X, self.Y)\n",
    "        \n",
    "        # inference_graph will return probabilities, decision path and variance\n",
    "        self.infer_op, _, _ = forest_graph.inference_graph(self.X)\n",
    "        correct_prediction = tf.equal(tf.argmax(self.infer_op, 1), tf.cast(self.Y, tf.int64))\n",
    "        self.accuracy_op = tf.reduce_mean(tf.cast(correct_prediction, tf.float32))\n",
    "        \n",
    "        \n",
    "        # 将初始化的操作和树的参数初始化 作为一个整体操作\n",
    "        init_vars = tf.group(tf.global_variables_initializer(),\n",
    "                   resources.initialize_resources(resources.shared_resources()))\n",
    "        #init_vars = tf.global_variables_initializer()\n",
    "        \n",
    "        self.sess = tf.Session()\n",
    "        self.sess.run(init_vars)\n",
    "\n",
    "        # 开始训练\n",
    "        cnt = 0\n",
    "        for i in range(1, num_steps + 1):\n",
    "            # Prepare Data\n",
    "            # 每次学习一个batch的MNIST data\n",
    "            #batch_x, batch_y = training_set.next_batch(batch_size)\n",
    "            start, end = ((i-1) * batch_size) % num_data, (i * batch_size) % num_data\n",
    "            \n",
    "            batch_x, batch_y = X[start:end], Y[start:end]\n",
    "            _, l = self.sess.run([train_operation, loss_operation], feed_dict={self.X: batch_x, self.Y: batch_y})\n",
    "            if i % 50 == 0 or i == 1:\n",
    "                acc = self.sess.run(self.accuracy_op, feed_dict={self.X: batch_x, self.Y: batch_y})\n",
    "                print('Step %i, Loss: %f, Acc: %f' % (i, l, acc))\n",
    "                \n",
    "    def predict(self, testX):\n",
    "        results = self.sess.run(self.infer_op, feed_dict={self.X:testX})\n",
    "        return np.argmax(results, axis=1)\n",
    "    \n",
    "    def score(self, testX, testY):\n",
    "        accuracy = self.sess.run(self.accuracy_op, feed_dict={self.X: testX, self.Y: testY})\n",
    "        return accuracy"
   ]
  },
  {
   "cell_type": "code",
   "execution_count": 53,
   "metadata": {
    "_uuid": "ce9440c4116c2586e3ae84f9160cae2401793d1a"
   },
   "outputs": [],
   "source": [
    "rftf = RandomForestTF(num_trees)"
   ]
  },
  {
   "cell_type": "code",
   "execution_count": 54,
   "metadata": {
    "_uuid": "3741234913e705ddb4780c7c7c1fe989de5b50f1"
   },
   "outputs": [
    {
     "name": "stderr",
     "output_type": "stream",
     "text": [
      "W0927 12:59:36.838252 4712420800 deprecation.py:506] From /anaconda3/lib/python3.7/site-packages/tensorflow/python/ops/init_ops.py:1251: calling VarianceScaling.__init__ (from tensorflow.python.ops.init_ops) with dtype is deprecated and will be removed in a future version.\n",
      "Instructions for updating:\n",
      "Call initializer instance with the dtype argument instead of passing it to the constructor\n",
      "W0927 12:59:37.041274 4712420800 deprecation.py:323] From /anaconda3/lib/python3.7/site-packages/tensorflow/contrib/tensor_forest/python/tensor_forest.py:529: div (from tensorflow.python.ops.math_ops) is deprecated and will be removed in a future version.\n",
      "Instructions for updating:\n",
      "Deprecated in favor of operator or tf.math.divide.\n"
     ]
    },
    {
     "name": "stdout",
     "output_type": "stream",
     "text": [
      "Step 1, Loss: -1.000000, Acc: 0.322266\n",
      "Step 50, Loss: -254.800003, Acc: 0.821289\n",
      "Step 100, Loss: -529.799988, Acc: 0.820312\n"
     ]
    }
   ],
   "source": [
    "rftf.fit(trainX, trainY, num_steps, batch_size, max_nodes)"
   ]
  },
  {
   "cell_type": "code",
   "execution_count": 55,
   "metadata": {
    "_uuid": "04be03cd880f34cb1e51fc0e029e2429596890d0"
   },
   "outputs": [
    {
     "data": {
      "text/plain": [
       "0.8138"
      ]
     },
     "execution_count": 55,
     "metadata": {},
     "output_type": "execute_result"
    }
   ],
   "source": [
    "rftf.score(testX, testY)"
   ]
  },
  {
   "cell_type": "code",
   "execution_count": null,
   "metadata": {
    "_uuid": "6cf0eb50e27db15dcd256619d012e0fd55866e55",
    "collapsed": true,
    "jupyter": {
     "outputs_hidden": true
    }
   },
   "outputs": [],
   "source": []
  }
 ],
 "metadata": {
  "kernelspec": {
   "display_name": "Python 3",
   "language": "python",
   "name": "python3"
  },
  "language_info": {
   "codemirror_mode": {
    "name": "ipython",
    "version": 3
   },
   "file_extension": ".py",
   "mimetype": "text/x-python",
   "name": "python",
   "nbconvert_exporter": "python",
   "pygments_lexer": "ipython3",
   "version": "3.7.4"
  }
 },
 "nbformat": 4,
 "nbformat_minor": 4
}
